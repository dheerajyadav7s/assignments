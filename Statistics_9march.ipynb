{
 "cells": [
  {
   "cell_type": "markdown",
   "id": "e5b3af8f-9857-4eba-966f-2306461bab78",
   "metadata": {},
   "source": [
    "## Q1: What are the Probability Mass Function (PMF) and Probability Density Function (PDF)? Explain with an example."
   ]
  },
  {
   "cell_type": "markdown",
   "id": "33a01eb4-e8d7-40e0-971f-c2bd0ebc0453",
   "metadata": {},
   "source": [
    "### \n",
    "### Probability mass function denotes the probability that a discrete random variable will take on a particular value. Probability density function gives the probability that a continuous random variable will lie between a certain specified interval. It is used for continuos random variables, such as the number of heads in a series of coin flips or the number of customers who visit a store on a given day are the examples of PMF .\n",
    "### Consider an example with PDF, f(x) = x + 3, when 1 < x ≤ 3. We have to find P(2 < X < 3). Integrating x + 3 within the limits 2 and 3 gives the answer 5.5 which can be done with the help of PDF concpets."
   ]
  },
  {
   "cell_type": "markdown",
   "id": "8351bfdc-29b6-4e7c-91d4-da6cce836d1a",
   "metadata": {},
   "source": [
    "## Q2: What is Cumulative Density Function (CDF)? Explain with an example. Why CDF is used?"
   ]
  },
  {
   "cell_type": "markdown",
   "id": "6913a5aa-90fa-461d-b40c-cc2f4fc4637b",
   "metadata": {},
   "source": [
    "### The cumulative distribution function is used to describe the probability distribution of random variables. It can be used to describe the probability for a discrete, continuous or mixed variable. It is obtained by summing up the probability density function and getting the cumulative probability for a random variable."
   ]
  },
  {
   "cell_type": "markdown",
   "id": "870c580e-027a-494a-b90d-972e2008d55f",
   "metadata": {},
   "source": [
    "## Q3: What are some examples of situations where the normal distribution might be used as a model? Explain how the parameters of the normal distribution relate to the shape of the distribution."
   ]
  },
  {
   "cell_type": "markdown",
   "id": "d684ad97-0496-4c97-a07f-11ad6ab83499",
   "metadata": {},
   "source": [
    "### The height of people is an example of normal distribution. Most of the people in a specific population are of average height. The number of people taller and shorter than the average height people is almost equal, and a very small number of people are either extremely tall or extremely short\n",
    "### Normal Distribution shows the data near the mean are more frequent in occurence while the data far form the mean are less . It appears as a bell curve."
   ]
  },
  {
   "cell_type": "markdown",
   "id": "c00f9fd5-9c8e-4964-ad5c-b4366984f740",
   "metadata": {},
   "source": [
    "## Q4: Explain the importance of Normal Distribution. Give a few real-life examples of Normal Distribution."
   ]
  },
  {
   "cell_type": "markdown",
   "id": "d3d9d70d-2559-43c7-abe8-7d07517e7407",
   "metadata": {},
   "source": [
    "### Normal Distribution shows the data near the mean are more frequent in occurence while the data far form the mean are less . It appears as a bell curve.\n",
    "\n",
    "\n",
    "### The height of people is an example of normal distribution. Most of the people in a specific population are of average height. The number of people taller and shorter than the average height people is almost equal, and a very small number of people are either extremely tall or extremely short."
   ]
  },
  {
   "cell_type": "markdown",
   "id": "5ae379e3-5fe9-4ee3-8090-1d28c45e1526",
   "metadata": {},
   "source": [
    "## Q5: What is Bernaulli Distribution? Give an Example. What is the difference between Bernoulli Distribution and Binomial Distribution? "
   ]
  },
  {
   "cell_type": "markdown",
   "id": "17aea841-9e10-4d77-b752-08bf8cad4640",
   "metadata": {},
   "source": [
    "### Bernoulli Distribution is a type of discrete probability distribution where every experiment conducted asks a question that can be answered only in yes or no. In other words, the random variable can be 1 with a probability p or it can be 0 with a probability (1 - p). Such an experiment is called a Bernoulli trial. A pass or fail exam can be modeled by a Bernoulli Distribution. \n",
    "### Bernoulli deals with the outcome of the single trial of the event, whereas Binomial deals with the outcome of the multiple trials of the single event. Bernoulli is used when the outcome of an event is required for only one time, whereas the Binomial is used when the outcome of an event is required multiple times."
   ]
  },
  {
   "cell_type": "markdown",
   "id": "4dc61b27-dbe6-43ac-9931-c1ac53006a10",
   "metadata": {},
   "source": [
    "## Q6. Consider a dataset with a mean of 50 and a standard deviation of 10. If we assume that the dataset is normally distributed, what is the probability that a randomly selected observation will be greater than 60? Use the appropriate formula and show your calculations."
   ]
  },
  {
   "cell_type": "markdown",
   "id": "66eb91e4-1053-4bcf-a202-aad5d3d874de",
   "metadata": {},
   "source": [
    "### To calculate the probability that a randomly selected observation from a normally distributed dataset with a mean of 50 and a standard deviation of 10 will be greater than 60, we can use the Z-score formula and standard normal distribution tables.\n",
    "\n"
   ]
  },
  {
   "cell_type": "markdown",
   "id": "07cafc13-0366-45e7-9cd8-61b8ecb523e0",
   "metadata": {},
   "source": [
    "### Z-score = (60-50)/10=1\n",
    "### Now we need to find the probability associated with this Z-score we can z-table to calulate that.\n",
    "### Using z-table we can find the value across 1.0 z-score which is 0.8413 .Now the probablity of observation greater than 60 \n",
    "### 1-0.8413=0.1587\n",
    "### which is approx 15.87%"
   ]
  },
  {
   "cell_type": "markdown",
   "id": "8aed54a8-eae4-4aeb-af31-76730f8416de",
   "metadata": {},
   "source": [
    "## Q7: Explain uniform Distribution with an example."
   ]
  },
  {
   "cell_type": "markdown",
   "id": "33de313e-22ef-44fd-a434-9ff7b04d4b29",
   "metadata": {},
   "source": [
    "### uniform distribution refers to a type of probability distribution in which all outcomes are equally likely. A deck of cards has within it uniform distributions because the likelihood of drawing a heart, a club, a diamond, or a spade is equally likely."
   ]
  },
  {
   "cell_type": "markdown",
   "id": "ee27edec-0d9a-4d37-86ec-bce233d12662",
   "metadata": {},
   "source": [
    "## Q8: What is the z score? State the importance of the z score."
   ]
  },
  {
   "cell_type": "markdown",
   "id": "d6c4b931-bf55-4b70-a0a4-3dda24628e29",
   "metadata": {},
   "source": [
    "### Z-score is a statistical measurement that describes a value's relationship to the mean of a group of values. Z-score is measured in terms of standard deviations from the mean. If a Z-score is 0, it indicates that the data point's score is identical to the mean score. A Z-score of 1.0 would indicate a value that is one standard deviation from the mean. Z-scores may be positive or negative, with a positive value indicating the score is above the mean and a negative score indicating it is below the mean."
   ]
  },
  {
   "cell_type": "markdown",
   "id": "266598c0-c6f6-4eba-bf32-b0d642bfa517",
   "metadata": {},
   "source": [
    "### Z-Score is used to calculate how much standard deviation away a specific random variable is from mean. "
   ]
  },
  {
   "cell_type": "markdown",
   "id": "e85dd1f9-f626-4e76-a03f-459ea2e4551a",
   "metadata": {},
   "source": [
    "## Q9: What is Central Limit Theorem? State the significance of the Central Limit Theorem."
   ]
  },
  {
   "cell_type": "markdown",
   "id": "62a4ef3f-b49c-46d9-b557-11fccdf036aa",
   "metadata": {},
   "source": [
    "### The sampling distribution of the mean will always be nromally distributed , as long as the sample size is large enough. "
   ]
  },
  {
   "cell_type": "markdown",
   "id": "7fa8d3d4-df2a-4e42-8656-e5bd5b246a5a",
   "metadata": {},
   "source": [
    "### 1. A key aspects of CLT that the average of sample mean and std will equal to the population mean and std.\n",
    "### 2. large sample size can predict the characteristics of a population more accurately.\n",
    "### 3. The mean of sample variables from sample population will be equal to the mean of whole population."
   ]
  },
  {
   "cell_type": "markdown",
   "id": "4c2c5d8b-de7d-4256-b597-2e83edafac0f",
   "metadata": {},
   "source": [
    "## Q10: State the assumptions of the Central Limit Theorem."
   ]
  },
  {
   "cell_type": "markdown",
   "id": "847f04e8-1073-408f-9984-f9928e01e22c",
   "metadata": {},
   "source": [
    "### Assumptions Behind the Central Limit Theorem\n",
    "### It needs to be sampled at random. The samples should be unrelated to one another. One sample should not impact the others. When taking samples without replacement, the sample size should not exceed 10% of the population."
   ]
  },
  {
   "cell_type": "code",
   "execution_count": null,
   "id": "4540c736-9e6e-4fe0-8122-85ea49669dfd",
   "metadata": {},
   "outputs": [],
   "source": []
  }
 ],
 "metadata": {
  "kernelspec": {
   "display_name": "Python 3 (ipykernel)",
   "language": "python",
   "name": "python3"
  },
  "language_info": {
   "codemirror_mode": {
    "name": "ipython",
    "version": 3
   },
   "file_extension": ".py",
   "mimetype": "text/x-python",
   "name": "python",
   "nbconvert_exporter": "python",
   "pygments_lexer": "ipython3",
   "version": "3.10.8"
  }
 },
 "nbformat": 4,
 "nbformat_minor": 5
}
