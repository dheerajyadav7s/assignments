{
 "cells": [
  {
   "cell_type": "markdown",
   "id": "c82a1987-bb43-442f-b09c-762de305d9e9",
   "metadata": {},
   "source": [
    "## Q1. What are the three measures of central tendency?"
   ]
  },
  {
   "cell_type": "markdown",
   "id": "ef72564f-4aa1-4f3a-ac89-3778c36ed79f",
   "metadata": {},
   "source": [
    "### The most occuring value that gives an idea of whole dataset is called measure of central tendency.\n",
    "### Some of the most commonly used measures of central tendency are:\n",
    " ### Mean\n",
    " ### Median\n",
    " ### Mean"
   ]
  },
  {
   "cell_type": "markdown",
   "id": "d529463c-f444-4982-a8b8-52ddfe6a0269",
   "metadata": {},
   "source": [
    "## Q2. What is the difference between the mean, median, and mode? How are they used to measure the\n",
    " ## central tendency of a dataset?"
   ]
  },
  {
   "cell_type": "markdown",
   "id": "40a1ae31-08dd-43f2-9612-3fed8e802e1a",
   "metadata": {},
   "source": [
    "### The difference between mean, median and mode are:\n",
    "### Mean is the average value of the given observations and Median is the middle value of the given observations but Mode is the most repeated value in the given observation.\n",
    "### central tendency can be measured by using the numpy and scipy libraries"
   ]
  },
  {
   "cell_type": "markdown",
   "id": "325df92b-7f64-424e-9312-e771ba842c03",
   "metadata": {},
   "source": [
    "## Q3. Measure the three measures of central tendency for the given height data:\n",
    "[178,177,176,177,178.2,178,175,179,180,175,178.9,176.2,177,172.5,178,176.5]"
   ]
  },
  {
   "cell_type": "code",
   "execution_count": 3,
   "id": "775a5bee-0571-4825-93be-577963c3bc7f",
   "metadata": {},
   "outputs": [
    {
     "data": {
      "text/plain": [
       "177.01875"
      ]
     },
     "execution_count": 3,
     "metadata": {},
     "output_type": "execute_result"
    }
   ],
   "source": [
    "height=[178,177,176,177,178.2,178,175,179,180,175,178.9,176.2,177,172.5,178,176.5]\n",
    "import numpy as np\n",
    "np.mean(height)"
   ]
  },
  {
   "cell_type": "code",
   "execution_count": 4,
   "id": "47e55c27-94b6-4454-89a9-dca09466a187",
   "metadata": {},
   "outputs": [
    {
     "data": {
      "text/plain": [
       "177.0"
      ]
     },
     "execution_count": 4,
     "metadata": {},
     "output_type": "execute_result"
    }
   ],
   "source": [
    "np.median(height)"
   ]
  },
  {
   "cell_type": "code",
   "execution_count": 6,
   "id": "79b43541-dc0f-471b-916c-6357c7e2901a",
   "metadata": {},
   "outputs": [
    {
     "name": "stderr",
     "output_type": "stream",
     "text": [
      "/tmp/ipykernel_270/3846226869.py:2: FutureWarning: Unlike other reduction functions (e.g. `skew`, `kurtosis`), the default behavior of `mode` typically preserves the axis it acts along. In SciPy 1.11.0, this behavior will change: the default value of `keepdims` will become False, the `axis` over which the statistic is taken will be eliminated, and the value None will no longer be accepted. Set `keepdims` to True or False to avoid this warning.\n",
      "  stats.mode(height)\n"
     ]
    },
    {
     "data": {
      "text/plain": [
       "ModeResult(mode=array([177.]), count=array([3]))"
      ]
     },
     "execution_count": 6,
     "metadata": {},
     "output_type": "execute_result"
    }
   ],
   "source": [
    "from scipy import stats\n",
    "stats.mode(height)"
   ]
  },
  {
   "cell_type": "markdown",
   "id": "ba6f8d0d-ad34-4744-a0a7-5aabe78f15e4",
   "metadata": {},
   "source": [
    "### this data of height is normally distributed where all the central tendencies are very much closer "
   ]
  },
  {
   "cell_type": "markdown",
   "id": "0a2f8f51-95d5-4dd4-b0c5-1f5427c863e8",
   "metadata": {},
   "source": [
    "## Q4. Find the standard deviation for the given data:\n",
    " ## [178,177,176,177,178.2,178,175,179,180,175,178.9,176.2,177,172.5,178,176.5]"
   ]
  },
  {
   "cell_type": "code",
   "execution_count": 7,
   "id": "b3bb696c-b8fa-47c6-98e5-2ffa8a85133f",
   "metadata": {},
   "outputs": [
    {
     "data": {
      "text/plain": [
       "1.7885814036548633"
      ]
     },
     "execution_count": 7,
     "metadata": {},
     "output_type": "execute_result"
    }
   ],
   "source": [
    "data=[178,177,176,177,178.2,178,175,179,180,175,178.9,176.2,177,172.5,178,176.5]\n",
    "np.std(data)\n"
   ]
  },
  {
   "cell_type": "markdown",
   "id": "6a17b850-ae67-45fe-88a7-1da3b1734ceb",
   "metadata": {},
   "source": [
    "## Q5. How are measures of dispersion such as range, variance, and standard deviation used to describe\n",
    " ## the spread of a dataset? Provide an example."
   ]
  },
  {
   "cell_type": "code",
   "execution_count": 17,
   "id": "db2460b5-1c32-497e-959c-e9969f4d7748",
   "metadata": {},
   "outputs": [],
   "source": [
    "age=[12,3,45,67,4,32,34,5,67,34,45]"
   ]
  },
  {
   "cell_type": "code",
   "execution_count": 18,
   "id": "6a91963d-bd10-416c-a421-c1cfc0337e81",
   "metadata": {},
   "outputs": [
    {
     "data": {
      "text/plain": [
       "504.4132231404958"
      ]
     },
     "execution_count": 18,
     "metadata": {},
     "output_type": "execute_result"
    }
   ],
   "source": [
    "np.var(age)"
   ]
  },
  {
   "cell_type": "code",
   "execution_count": 19,
   "id": "6beecbb6-dfd4-4521-a382-cab3b4172114",
   "metadata": {},
   "outputs": [
    {
     "data": {
      "text/plain": [
       "22.459145645827576"
      ]
     },
     "execution_count": 19,
     "metadata": {},
     "output_type": "execute_result"
    }
   ],
   "source": [
    "np.std(age)"
   ]
  },
  {
   "cell_type": "markdown",
   "id": "3d63e037-c308-400c-92f7-6ee7fd098950",
   "metadata": {},
   "source": [
    "## Q6. What is a Venn diagram?"
   ]
  },
  {
   "cell_type": "markdown",
   "id": "66d2f90b-b807-446a-afdd-37cf45b77ab2",
   "metadata": {},
   "source": [
    "### A Venn diagram is an illustration that uses circles to show the relationships among the various sets "
   ]
  },
  {
   "cell_type": "markdown",
   "id": "c8adf7b1-9640-420b-a53d-572814812727",
   "metadata": {},
   "source": [
    "## Q7. For the two given sets A = (2,3,4,5,6,7) & B = (0,2,6,8,10). Find:\n",
    "## (i)  A B\n",
    "## (ii) A ⋃ B"
   ]
  },
  {
   "cell_type": "markdown",
   "id": "8f03521b-bf42-477c-8c92-9f0eab0de914",
   "metadata": {},
   "source": [
    "###  A U B = (0,2,3,4,5,6,7,8,10)"
   ]
  },
  {
   "cell_type": "markdown",
   "id": "6d809fc5-bd2d-420c-b219-7378ae4600da",
   "metadata": {},
   "source": [
    "###  A intersection B = (2,6)"
   ]
  },
  {
   "cell_type": "markdown",
   "id": "69efce4d-8032-4e18-b561-034067e410b9",
   "metadata": {},
   "source": [
    "## Q8. What do you understand about skewness in data?"
   ]
  },
  {
   "cell_type": "markdown",
   "id": "dadb4cb0-1efe-4e3b-8423-fc8e8c0f44b7",
   "metadata": {},
   "source": [
    "### Skewness is demonstrated on a bell curve when data points are not distributed symmetrically to the left and right sides of the median on a bell curve. \n",
    "### If the bell curve is shifted to the left or the right, it is said to be skewed."
   ]
  },
  {
   "cell_type": "markdown",
   "id": "2975313c-a9d1-4783-b8b1-c883dbcf4c90",
   "metadata": {},
   "source": [
    "## Q9. If a data is right skewed then what will be the position of median with respect to mean?"
   ]
  },
  {
   "cell_type": "markdown",
   "id": "53b435c1-0844-4518-a00b-8b109a60577e",
   "metadata": {},
   "source": [
    "###  If a data is right skewed then it  means more numbers of data points are present at the right side of the curve that indicates that mean will move towards right position while median will  be present at the left side of mean in a curve"
   ]
  },
  {
   "cell_type": "markdown",
   "id": "a0d35a64-cc99-40c5-8e5b-ac00c5f19f39",
   "metadata": {},
   "source": [
    "## Q10. Explain the difference between covariance and correlation. How are these measures used in\n",
    "## statistical analysis?"
   ]
  },
  {
   "cell_type": "markdown",
   "id": "c5fe4429-754b-4a32-85f0-84ff9801d0ec",
   "metadata": {},
   "source": [
    "### Covariance is an indicator of extent to which two random variables are dependent on each other . A higher numbers denotes a higher dependency while correlation is a statistical measure that indicates how strongly two variables are related \n",
    "### covariance ranges between negative infinite to positive infinite while correlation renges between (-1 to  +1)"
   ]
  },
  {
   "cell_type": "markdown",
   "id": "43b8728d-1565-4d37-83c7-c238974aba70",
   "metadata": {},
   "source": [
    "## Q11. What is the formula for calculating the sample mean? Provide an example calculation for a\n",
    "## dataset."
   ]
  },
  {
   "cell_type": "code",
   "execution_count": 10,
   "id": "e9c2d478-46cd-4915-a152-3a3340fb6c3f",
   "metadata": {},
   "outputs": [],
   "source": [
    "import seaborn as sns\n",
    "df=sns.load_dataset('tips')"
   ]
  },
  {
   "cell_type": "code",
   "execution_count": 11,
   "id": "9831e531-101a-4623-9037-6a59351834b0",
   "metadata": {},
   "outputs": [
    {
     "data": {
      "text/html": [
       "<div>\n",
       "<style scoped>\n",
       "    .dataframe tbody tr th:only-of-type {\n",
       "        vertical-align: middle;\n",
       "    }\n",
       "\n",
       "    .dataframe tbody tr th {\n",
       "        vertical-align: top;\n",
       "    }\n",
       "\n",
       "    .dataframe thead th {\n",
       "        text-align: right;\n",
       "    }\n",
       "</style>\n",
       "<table border=\"1\" class=\"dataframe\">\n",
       "  <thead>\n",
       "    <tr style=\"text-align: right;\">\n",
       "      <th></th>\n",
       "      <th>total_bill</th>\n",
       "      <th>tip</th>\n",
       "      <th>sex</th>\n",
       "      <th>smoker</th>\n",
       "      <th>day</th>\n",
       "      <th>time</th>\n",
       "      <th>size</th>\n",
       "    </tr>\n",
       "  </thead>\n",
       "  <tbody>\n",
       "    <tr>\n",
       "      <th>0</th>\n",
       "      <td>16.99</td>\n",
       "      <td>1.01</td>\n",
       "      <td>Female</td>\n",
       "      <td>No</td>\n",
       "      <td>Sun</td>\n",
       "      <td>Dinner</td>\n",
       "      <td>2</td>\n",
       "    </tr>\n",
       "    <tr>\n",
       "      <th>1</th>\n",
       "      <td>10.34</td>\n",
       "      <td>1.66</td>\n",
       "      <td>Male</td>\n",
       "      <td>No</td>\n",
       "      <td>Sun</td>\n",
       "      <td>Dinner</td>\n",
       "      <td>3</td>\n",
       "    </tr>\n",
       "    <tr>\n",
       "      <th>2</th>\n",
       "      <td>21.01</td>\n",
       "      <td>3.50</td>\n",
       "      <td>Male</td>\n",
       "      <td>No</td>\n",
       "      <td>Sun</td>\n",
       "      <td>Dinner</td>\n",
       "      <td>3</td>\n",
       "    </tr>\n",
       "    <tr>\n",
       "      <th>3</th>\n",
       "      <td>23.68</td>\n",
       "      <td>3.31</td>\n",
       "      <td>Male</td>\n",
       "      <td>No</td>\n",
       "      <td>Sun</td>\n",
       "      <td>Dinner</td>\n",
       "      <td>2</td>\n",
       "    </tr>\n",
       "    <tr>\n",
       "      <th>4</th>\n",
       "      <td>24.59</td>\n",
       "      <td>3.61</td>\n",
       "      <td>Female</td>\n",
       "      <td>No</td>\n",
       "      <td>Sun</td>\n",
       "      <td>Dinner</td>\n",
       "      <td>4</td>\n",
       "    </tr>\n",
       "    <tr>\n",
       "      <th>...</th>\n",
       "      <td>...</td>\n",
       "      <td>...</td>\n",
       "      <td>...</td>\n",
       "      <td>...</td>\n",
       "      <td>...</td>\n",
       "      <td>...</td>\n",
       "      <td>...</td>\n",
       "    </tr>\n",
       "    <tr>\n",
       "      <th>239</th>\n",
       "      <td>29.03</td>\n",
       "      <td>5.92</td>\n",
       "      <td>Male</td>\n",
       "      <td>No</td>\n",
       "      <td>Sat</td>\n",
       "      <td>Dinner</td>\n",
       "      <td>3</td>\n",
       "    </tr>\n",
       "    <tr>\n",
       "      <th>240</th>\n",
       "      <td>27.18</td>\n",
       "      <td>2.00</td>\n",
       "      <td>Female</td>\n",
       "      <td>Yes</td>\n",
       "      <td>Sat</td>\n",
       "      <td>Dinner</td>\n",
       "      <td>2</td>\n",
       "    </tr>\n",
       "    <tr>\n",
       "      <th>241</th>\n",
       "      <td>22.67</td>\n",
       "      <td>2.00</td>\n",
       "      <td>Male</td>\n",
       "      <td>Yes</td>\n",
       "      <td>Sat</td>\n",
       "      <td>Dinner</td>\n",
       "      <td>2</td>\n",
       "    </tr>\n",
       "    <tr>\n",
       "      <th>242</th>\n",
       "      <td>17.82</td>\n",
       "      <td>1.75</td>\n",
       "      <td>Male</td>\n",
       "      <td>No</td>\n",
       "      <td>Sat</td>\n",
       "      <td>Dinner</td>\n",
       "      <td>2</td>\n",
       "    </tr>\n",
       "    <tr>\n",
       "      <th>243</th>\n",
       "      <td>18.78</td>\n",
       "      <td>3.00</td>\n",
       "      <td>Female</td>\n",
       "      <td>No</td>\n",
       "      <td>Thur</td>\n",
       "      <td>Dinner</td>\n",
       "      <td>2</td>\n",
       "    </tr>\n",
       "  </tbody>\n",
       "</table>\n",
       "<p>244 rows × 7 columns</p>\n",
       "</div>"
      ],
      "text/plain": [
       "     total_bill   tip     sex smoker   day    time  size\n",
       "0         16.99  1.01  Female     No   Sun  Dinner     2\n",
       "1         10.34  1.66    Male     No   Sun  Dinner     3\n",
       "2         21.01  3.50    Male     No   Sun  Dinner     3\n",
       "3         23.68  3.31    Male     No   Sun  Dinner     2\n",
       "4         24.59  3.61  Female     No   Sun  Dinner     4\n",
       "..          ...   ...     ...    ...   ...     ...   ...\n",
       "239       29.03  5.92    Male     No   Sat  Dinner     3\n",
       "240       27.18  2.00  Female    Yes   Sat  Dinner     2\n",
       "241       22.67  2.00    Male    Yes   Sat  Dinner     2\n",
       "242       17.82  1.75    Male     No   Sat  Dinner     2\n",
       "243       18.78  3.00  Female     No  Thur  Dinner     2\n",
       "\n",
       "[244 rows x 7 columns]"
      ]
     },
     "execution_count": 11,
     "metadata": {},
     "output_type": "execute_result"
    }
   ],
   "source": [
    "df"
   ]
  },
  {
   "cell_type": "code",
   "execution_count": 13,
   "id": "7a0d38fb-6439-42c1-a173-de5550f0a32d",
   "metadata": {},
   "outputs": [
    {
     "data": {
      "text/plain": [
       "19.78594262295082"
      ]
     },
     "execution_count": 13,
     "metadata": {},
     "output_type": "execute_result"
    }
   ],
   "source": [
    "np.mean(df['total_bill'])"
   ]
  },
  {
   "cell_type": "markdown",
   "id": "f9c0dec8-0513-4c24-a1ec-3796b43c2ac3",
   "metadata": {},
   "source": [
    "### Mean is the average of all the data points \n",
    "### average is calculated by adding all the data points and dividing with the numbers of data points"
   ]
  },
  {
   "cell_type": "markdown",
   "id": "44840a01-8f04-41ab-b763-28c5bef355a6",
   "metadata": {},
   "source": [
    "## Q12. For a normal distribution data what is the relationship between its measure of central tendency?"
   ]
  },
  {
   "cell_type": "markdown",
   "id": "4fd1e2de-4afc-4f75-8777-d501621db247",
   "metadata": {},
   "source": [
    "### For a normal distribution data all the measure of central tendencies are equal and lies on the central of a well shaped curve."
   ]
  },
  {
   "cell_type": "markdown",
   "id": "4ac0f70f-1c3f-4317-8f8d-219496319525",
   "metadata": {},
   "source": [
    "## Q13. How is covariance different from correlation?"
   ]
  },
  {
   "cell_type": "markdown",
   "id": "d7dc3aa1-0dc6-4fae-ba7e-2087e67c9c30",
   "metadata": {},
   "source": [
    "### Covariance does not have a specific limit value that creates confusion while taking decision but correlation has a range of (-1 to +1) which helps to find relation easily. The more the values towards +1 the more the variables will be positivly related and vice versa."
   ]
  },
  {
   "cell_type": "markdown",
   "id": "865049b9-b7db-4e6d-a2de-393c462c945a",
   "metadata": {},
   "source": [
    "## Q14. How do outliers affect measures of central tendency and dispersion? Provide an example."
   ]
  },
  {
   "cell_type": "code",
   "execution_count": 14,
   "id": "b82d1ffc-c72d-4ecd-8185-dab0ffe954af",
   "metadata": {},
   "outputs": [
    {
     "data": {
      "text/plain": [
       "31.3"
      ]
     },
     "execution_count": 14,
     "metadata": {},
     "output_type": "execute_result"
    }
   ],
   "source": [
    "### let us take an example of age of students of a class \n",
    "age=[12,34,55,33,23,32,25,33,33,33]\n",
    "np.mean(age)"
   ]
  },
  {
   "cell_type": "code",
   "execution_count": 15,
   "id": "33422b6b-cc5c-49ab-8bf5-80ee75f52941",
   "metadata": {},
   "outputs": [
    {
     "data": {
      "text/plain": [
       "119.36363636363636"
      ]
     },
     "execution_count": 15,
     "metadata": {},
     "output_type": "execute_result"
    }
   ],
   "source": [
    "### if we have an outlier in age data \n",
    "age=[12,34,55,33,23,32,25,1000,33,33,33]\n",
    "np.mean(age)"
   ]
  },
  {
   "cell_type": "code",
   "execution_count": 16,
   "id": "07ff5c20-fbd7-4b4d-94af-e5dff2380c6c",
   "metadata": {},
   "outputs": [
    {
     "data": {
      "text/plain": [
       "33.0"
      ]
     },
     "execution_count": 16,
     "metadata": {},
     "output_type": "execute_result"
    }
   ],
   "source": [
    "### here outlier drastically changed our actual central tendency so in this case we use median to find central tendency measure\n",
    "np.median(age)"
   ]
  },
  {
   "cell_type": "code",
   "execution_count": null,
   "id": "5ab42c04-be7d-437f-b8d8-1e49af629cfe",
   "metadata": {},
   "outputs": [],
   "source": []
  }
 ],
 "metadata": {
  "kernelspec": {
   "display_name": "Python 3 (ipykernel)",
   "language": "python",
   "name": "python3"
  },
  "language_info": {
   "codemirror_mode": {
    "name": "ipython",
    "version": 3
   },
   "file_extension": ".py",
   "mimetype": "text/x-python",
   "name": "python",
   "nbconvert_exporter": "python",
   "pygments_lexer": "ipython3",
   "version": "3.10.8"
  }
 },
 "nbformat": 4,
 "nbformat_minor": 5
}
