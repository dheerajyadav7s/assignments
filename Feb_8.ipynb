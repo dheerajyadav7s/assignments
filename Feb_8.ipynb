{
 "cells": [
  {
   "cell_type": "code",
   "execution_count": 1,
   "id": "21507f8b-e930-4672-b4dc-95e46defb784",
   "metadata": {},
   "outputs": [],
   "source": [
    "# Q1. What is Abstraction in OOps? Explain with an example."
   ]
  },
  {
   "cell_type": "markdown",
   "id": "bc30c267-c785-45de-b451-d9e48496fb9b",
   "metadata": {},
   "source": [
    "### Abstraction is used to hide the internal functionality of the function from the users. It secures the definition fo the function"
   ]
  },
  {
   "cell_type": "markdown",
   "id": "b1a2e455-a149-4219-893e-dde46d790fea",
   "metadata": {},
   "source": [
    "### For example, when we are driving a car, we are only concerned about driving the car like start/stop the car, accelerate/ break, etc. We are not concerned about how the actual start/stop mechanism or accelerate/brake process works internally. We are just not interested in those details."
   ]
  },
  {
   "cell_type": "code",
   "execution_count": 2,
   "id": "d8f80424-14a8-450c-aac0-4fd29750cd1e",
   "metadata": {},
   "outputs": [],
   "source": [
    "# Q2. Differentiate between Abstraction and Encapsulation. Explain with an example."
   ]
  },
  {
   "cell_type": "markdown",
   "id": "e68eeebf-8318-4252-b373-98e629427a16",
   "metadata": {},
   "source": [
    "### Abstraction is the method of hiding the unwanted information. Whereas encapsulation is a method to hide the data in a single entity or unit along with a method to protect information from outside."
   ]
  },
  {
   "cell_type": "code",
   "execution_count": 3,
   "id": "f06ff6ac-7d8c-407a-a66c-b3bf4cc575cc",
   "metadata": {},
   "outputs": [],
   "source": [
    "# Q3. What is abc module in python? Why is it used?"
   ]
  },
  {
   "cell_type": "markdown",
   "id": "fc145b8f-2d1d-49ca-87a7-80b964a88318",
   "metadata": {},
   "source": [
    "### The 'abc' module in Python library provides the infrastructure for defining custom abstract base classes. 'abc' works by marking methods of the base class as abstract. This is done by @absttractmethod decorator."
   ]
  },
  {
   "cell_type": "code",
   "execution_count": 4,
   "id": "7b07d345-c8b0-4faf-95b5-aa1c1f727fc0",
   "metadata": {},
   "outputs": [],
   "source": [
    "# Q4. How can we achieve data abstraction?\n"
   ]
  },
  {
   "cell_type": "markdown",
   "id": "73548dc5-ce46-4af7-a44a-fe04574cd7ae",
   "metadata": {},
   "source": [
    "### Data Abstraction  can be achieved through creating abstract classes and inheriting them later. \n",
    "### It helps to secure the methods definiton from the user."
   ]
  },
  {
   "cell_type": "code",
   "execution_count": 6,
   "id": "bd3b99f5-c6e5-4ddc-88f8-c5fd5c536761",
   "metadata": {},
   "outputs": [],
   "source": [
    "# Q5. Can we create an instance of an abstract class? Explain your answer.\n"
   ]
  },
  {
   "cell_type": "markdown",
   "id": "1f394c55-4152-42ed-91b9-94217c2b2374",
   "metadata": {},
   "source": [
    "### Abstract classes cannot be instantiated, but they can be subclassed. When an abstract class is subclassed, the subclass usually provides implementations for all of the abstract methods in its parent class. However, if it does not, then the subclass must also be declared abstract ."
   ]
  },
  {
   "cell_type": "code",
   "execution_count": null,
   "id": "9c5d33dc-5a52-406a-8033-880c85d1097b",
   "metadata": {},
   "outputs": [],
   "source": []
  }
 ],
 "metadata": {
  "kernelspec": {
   "display_name": "Python 3 (ipykernel)",
   "language": "python",
   "name": "python3"
  },
  "language_info": {
   "codemirror_mode": {
    "name": "ipython",
    "version": 3
   },
   "file_extension": ".py",
   "mimetype": "text/x-python",
   "name": "python",
   "nbconvert_exporter": "python",
   "pygments_lexer": "ipython3",
   "version": "3.10.8"
  }
 },
 "nbformat": 4,
 "nbformat_minor": 5
}
