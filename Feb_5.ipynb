{
 "cells": [
  {
   "cell_type": "code",
   "execution_count": 1,
   "id": "322c7e02-770b-43b4-847d-a77856bb6319",
   "metadata": {},
   "outputs": [],
   "source": [
    "## Q1. Explain Class and Object with respect to Object-Oriented Programming. Give a suitable example."
   ]
  },
  {
   "cell_type": "markdown",
   "id": "1c77efd4-7d95-4c6d-be81-261d7c4a0c99",
   "metadata": {},
   "source": [
    "##  Class − A class can be defined as a template/blueprint that describes the behavior/state that the object of its type support."
   ]
  },
  {
   "cell_type": "markdown",
   "id": "c53e1307-9f23-4fa5-a1da-996c53343388",
   "metadata": {},
   "source": [
    "## object - object is the instances of the class . Instance is a copy of the class with actual values"
   ]
  },
  {
   "cell_type": "markdown",
   "id": "e9686c70-7fde-4963-aacc-c8bebd4cfd5b",
   "metadata": {},
   "source": [
    "## in real life, a car is an object. The car has attributes, such as weight and color, and methods, such as drive and brake. "
   ]
  },
  {
   "cell_type": "code",
   "execution_count": 2,
   "id": "eef27ad0-2818-4116-b9a5-7d7289a8cf37",
   "metadata": {},
   "outputs": [],
   "source": [
    "# Q2. Name the four pillars of OOPs."
   ]
  },
  {
   "cell_type": "markdown",
   "id": "29632460-ca95-4232-9a2a-28b64a143ce6",
   "metadata": {},
   "source": [
    "## The four pillars of oops are :\n",
    "   ## polymorphism , inheritance, data abstraction, encapsulation"
   ]
  },
  {
   "cell_type": "code",
   "execution_count": 3,
   "id": "a7e4ea8f-2d58-4591-aa7c-b25573f7b373",
   "metadata": {},
   "outputs": [],
   "source": [
    "## Q3. Explain why the __init__() function is used. Give a suitable example."
   ]
  },
  {
   "cell_type": "markdown",
   "id": "2958975c-8b5a-47f8-a253-5dc19d9188b7",
   "metadata": {},
   "source": [
    "###  __init__ is a special python method or constructor that runs whenever a new object is created. These types of functions are used to initialize the attributes of that class"
   ]
  },
  {
   "cell_type": "code",
   "execution_count": 8,
   "id": "65c0c6af-9409-4335-8da0-a5857f1b9889",
   "metadata": {},
   "outputs": [
    {
     "name": "stdout",
     "output_type": "stream",
     "text": [
      "I ran first\n"
     ]
    },
    {
     "data": {
      "text/plain": [
       "'Audi'"
      ]
     },
     "execution_count": 8,
     "metadata": {},
     "output_type": "execute_result"
    }
   ],
   "source": [
    "class Car:\n",
    "    def __init__(self, name):\n",
    "        self.name = name\n",
    "        print(\"I ran first\")\n",
    " \n",
    "    \n",
    "C = Car('Audi')\n",
    "C.name"
   ]
  },
  {
   "cell_type": "code",
   "execution_count": 9,
   "id": "7a073a3f-fa8b-4625-aca3-d1e91d46bd80",
   "metadata": {},
   "outputs": [],
   "source": [
    "# Q4. Why self is used in OOPs?"
   ]
  },
  {
   "cell_type": "markdown",
   "id": "4b4690be-53c9-40b5-8236-ee1211c32acf",
   "metadata": {},
   "source": [
    "### Self represents the instance of the class. By using the “self” we can access the attributes and methods of the class in Python. It binds the attributes with the given arguments."
   ]
  },
  {
   "cell_type": "markdown",
   "id": "d9d719fa-2857-4a9f-a744-928f8c06d737",
   "metadata": {},
   "source": [
    "### self is not reserved keyword we can use any other name also"
   ]
  },
  {
   "cell_type": "code",
   "execution_count": 10,
   "id": "3b6c51b6-daa4-4a74-b976-9f5b51d04adb",
   "metadata": {},
   "outputs": [],
   "source": [
    "# Q5. What is inheritance? Give an example for each type of inheritance."
   ]
  },
  {
   "cell_type": "code",
   "execution_count": null,
   "id": "3f739445-a95e-4767-871f-81f2a1f64284",
   "metadata": {},
   "outputs": [],
   "source": []
  },
  {
   "cell_type": "code",
   "execution_count": 11,
   "id": "f2cf0d17-53f5-4e29-9362-d4eb2c2c0afa",
   "metadata": {},
   "outputs": [],
   "source": [
    "class class1:\n",
    "    def method1(self):\n",
    "        print(\"we are inside class1\")\n",
    "\n",
    "        \n",
    "class class2(class1):\n",
    "    def method2(self):\n",
    "        print(\"we are inside class2\")\n",
    "        return True        "
   ]
  },
  {
   "cell_type": "code",
   "execution_count": 12,
   "id": "4a855a09-b6ea-48ad-ba43-782df84b2033",
   "metadata": {},
   "outputs": [],
   "source": [
    "ch=class2()"
   ]
  },
  {
   "cell_type": "code",
   "execution_count": 13,
   "id": "b9735d1d-2849-4264-b14c-851b48c53399",
   "metadata": {},
   "outputs": [
    {
     "name": "stdout",
     "output_type": "stream",
     "text": [
      "we are inside class1\n"
     ]
    }
   ],
   "source": [
    "ch.method1()"
   ]
  },
  {
   "cell_type": "code",
   "execution_count": null,
   "id": "2af81058-6972-4555-a66c-a72f677a7bd3",
   "metadata": {},
   "outputs": [],
   "source": []
  }
 ],
 "metadata": {
  "kernelspec": {
   "display_name": "Python 3 (ipykernel)",
   "language": "python",
   "name": "python3"
  },
  "language_info": {
   "codemirror_mode": {
    "name": "ipython",
    "version": 3
   },
   "file_extension": ".py",
   "mimetype": "text/x-python",
   "name": "python",
   "nbconvert_exporter": "python",
   "pygments_lexer": "ipython3",
   "version": "3.10.8"
  }
 },
 "nbformat": 4,
 "nbformat_minor": 5
}
