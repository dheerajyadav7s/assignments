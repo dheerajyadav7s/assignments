{
 "cells": [
  {
   "cell_type": "markdown",
   "id": "02d2e2de-af7f-49c7-92d8-5ded4725487a",
   "metadata": {},
   "source": [
    "## Q1. What is the Probability density function?"
   ]
  },
  {
   "cell_type": "markdown",
   "id": "3331539a-a708-449c-b261-f9a138488634",
   "metadata": {},
   "source": [
    "### A function that defines the relationship between random variables and its probability, such that we can find the probability of random variable\n",
    "### It contains continues random variables like ages ,heights of people , which is mostly normally distributed. "
   ]
  },
  {
   "cell_type": "markdown",
   "id": "310cb5a4-223a-4757-80dc-65837c891bc0",
   "metadata": {},
   "source": [
    "## Q2. What are the types of Probability distribution?"
   ]
  },
  {
   "cell_type": "markdown",
   "id": "460b401e-681f-4890-93e5-8a36ddee91f0",
   "metadata": {},
   "source": [
    "### There are two types of probability distributions: Discrete probability distributions and Continuous probability distributions."
   ]
  },
  {
   "cell_type": "markdown",
   "id": "cf0afad8-e55b-4049-aeec-1430c9b3a44e",
   "metadata": {},
   "source": [
    "## Q3. Write a Python function to calculate the probability density function of a normal distribution with given mean and standard deviation at a given point."
   ]
  },
  {
   "cell_type": "code",
   "execution_count": 2,
   "id": "5a88ce99-5103-4cba-94e8-f9be0dc2779e",
   "metadata": {},
   "outputs": [
    {
     "name": "stdout",
     "output_type": "stream",
     "text": [
      "0.08064621076943779\n"
     ]
    }
   ],
   "source": [
    "from scipy.stats import norm\n",
    "import numpy as np\n",
    "data = np.linspace(-5, 5, 20)\n",
    "  \n",
    "mean = np.mean(data)\n",
    "std = np.std(data)\n",
    "probability_pdf = norm.pdf(3, loc=mean, scale=std)\n",
    "print(probability_pdf)"
   ]
  },
  {
   "cell_type": "code",
   "execution_count": 3,
   "id": "a5806085-3057-496b-901b-447ad579028e",
   "metadata": {},
   "outputs": [
    {
     "data": {
      "text/plain": [
       "array([-5.        , -4.47368421, -3.94736842, -3.42105263, -2.89473684,\n",
       "       -2.36842105, -1.84210526, -1.31578947, -0.78947368, -0.26315789,\n",
       "        0.26315789,  0.78947368,  1.31578947,  1.84210526,  2.36842105,\n",
       "        2.89473684,  3.42105263,  3.94736842,  4.47368421,  5.        ])"
      ]
     },
     "execution_count": 3,
     "metadata": {},
     "output_type": "execute_result"
    }
   ],
   "source": [
    "data"
   ]
  },
  {
   "cell_type": "code",
   "execution_count": 4,
   "id": "d5404c63-74b0-4e84-af43-ef7154d5469a",
   "metadata": {},
   "outputs": [
    {
     "data": {
      "text/plain": [
       "(-1.7763568394002506e-16, 3.0348848933344197)"
      ]
     },
     "execution_count": 4,
     "metadata": {},
     "output_type": "execute_result"
    }
   ],
   "source": [
    "mean,std"
   ]
  },
  {
   "cell_type": "code",
   "execution_count": null,
   "id": "ee6dce06-7bb7-45cb-ad87-86b7e05ea007",
   "metadata": {},
   "outputs": [],
   "source": []
  },
  {
   "cell_type": "markdown",
   "id": "6a2708aa-8d70-45fe-8c80-baa9b74d45d6",
   "metadata": {},
   "source": [
    "## Q4. What are the properties of Binomial distribution? Give two examples of events where binomial distribution can be applied."
   ]
  },
  {
   "cell_type": "markdown",
   "id": "f4b15284-f1f5-4554-9655-d772a106267a",
   "metadata": {},
   "source": [
    "### Properties of Binomial distribution : \n",
    "###  Binomial distribution is applicable when the trials are independent and each trial has just two outcomes success and failure.\n",
    "### It is applied in coin tossing experiments, and genetic experiments also."
   ]
  },
  {
   "cell_type": "markdown",
   "id": "1e0f3312-db9a-4599-b4c1-3c98c70213ac",
   "metadata": {},
   "source": [
    "## Q5. Generate a random sample of size 1000 from a binomial distribution with probability of success 0.4 and plot a histogram of the results using matplotlib."
   ]
  },
  {
   "cell_type": "code",
   "execution_count": 9,
   "id": "2fabc3aa-ca44-4a15-9009-e91ac9ddf1c9",
   "metadata": {},
   "outputs": [],
   "source": [
    "import numpy as np\n",
    "import matplotlib.pyplot as plt\n",
    "\n",
    "n = 1000 # Number of trials\n",
    "p = 0.4   # Probability of success\n",
    "\n",
    "# Generate a random sample\n",
    "random_sample = np.random.binomial(n, p, size=1000)\n"
   ]
  },
  {
   "cell_type": "code",
   "execution_count": 11,
   "id": "87aa5dbc-ba51-41dd-a23e-46e93c701f28",
   "metadata": {},
   "outputs": [
    {
     "data": {
      "image/png": "[encoded data removed]",
      "text/plain": [
       "<Figure size 640x480 with 1 Axes>"
      ]
     },
     "metadata": {},
     "output_type": "display_data"
    }
   ],
   "source": [
    "plt.hist(random_sample, bins=20, density=True, alpha=0.7, color='blue')\n",
    "plt.xlabel('Number of Successes')\n",
    "plt.ylabel('Probability Density')\n",
    "plt.title('Histogram of Binomial Distribution')\n",
    "plt.grid(True)\n",
    "plt.show()"
   ]
  },
  {
   "cell_type": "code",
   "execution_count": null,
   "id": "00d9c972-e987-4c22-ab11-9ab6c393d51b",
   "metadata": {},
   "outputs": [],
   "source": []
  },
  {
   "cell_type": "markdown",
   "id": "f7a6ddd8-538a-495c-9ea6-686230242c04",
   "metadata": {},
   "source": [
    "## Q6. Write a Python function to calculate the cumulative distribution function of a Poisson distribution with given mean at a given point."
   ]
  },
  {
   "cell_type": "code",
   "execution_count": 14,
   "id": "ae8a219b-514a-4c1a-901b-23012ed80682",
   "metadata": {},
   "outputs": [],
   "source": [
    "import math\n",
    "\n",
    "def poisson_cdf(x, mean):\n",
    "    \n",
    "    cdf_value = 0.0\n",
    "    for k in range(x + 1):\n",
    "        cdf_value += math.exp(-mean) * (mean ** k) / math.factorial(k)\n",
    "    return cdf_value"
   ]
  },
  {
   "cell_type": "code",
   "execution_count": 15,
   "id": "01323683-21e4-4a66-836c-5433391a5f52",
   "metadata": {},
   "outputs": [
    {
     "name": "stdout",
     "output_type": "stream",
     "text": [
      "0.8911780189141512\n"
     ]
    }
   ],
   "source": [
    "mean = 2.5\n",
    "point = 4\n",
    "cdf_at_point = poisson_cdf(point, mean)\n",
    "print(cdf_at_point)"
   ]
  },
  {
   "cell_type": "code",
   "execution_count": null,
   "id": "41dfc7ae-2ead-4adb-aa5f-2e0d97e9ee83",
   "metadata": {},
   "outputs": [],
   "source": []
  },
  {
   "cell_type": "markdown",
   "id": "70086679-e0d8-48e6-9423-09ea1e445640",
   "metadata": {},
   "source": [
    "## Q7. How Binomial distribution different from Poisson distribution?"
   ]
  },
  {
   "cell_type": "markdown",
   "id": "dc7a5439-0f65-412d-930f-bcc1ad748e01",
   "metadata": {},
   "source": [
    "### The distributions share the following key difference: In a Binomial distribution, there is a fixed number of trials (e.g. flip a coin 3 times) In a Poisson distribution, there could be any number of events that occur during a certain time interval (e.g. how many patients will arrive at hospital in a given hour?)"
   ]
  },
  {
   "cell_type": "markdown",
   "id": "d07213e2-434a-4db7-b31c-59cb14414497",
   "metadata": {},
   "source": [
    "## Q8. Generate a random sample of size 1000 from a Poisson distribution with mean 5 and calculate the sample mean and variance."
   ]
  },
  {
   "cell_type": "code",
   "execution_count": 16,
   "id": "a87d7169-f1e0-453a-b9a4-0d38686d2ed1",
   "metadata": {},
   "outputs": [],
   "source": [
    "import numpy as np\n",
    "mean = 5\n",
    "\n",
    "# Generate a random sample\n",
    "random_sample = np.random.poisson(mean, size=1000)\n",
    "\n",
    "# Calculate the sample mean and variance\n",
    "sample_mean = np.mean(random_sample)\n",
    "sample_variance = np.var(random_sample, ddof=1)  # Use ddof=1 for sample variance\n"
   ]
  },
  {
   "cell_type": "code",
   "execution_count": 19,
   "id": "6135b9df-c579-49b7-8b96-a14764ff91c4",
   "metadata": {},
   "outputs": [
    {
     "name": "stdout",
     "output_type": "stream",
     "text": [
      "5.03\n"
     ]
    }
   ],
   "source": [
    "print(sample_mean)"
   ]
  },
  {
   "cell_type": "code",
   "execution_count": 18,
   "id": "9a90f9b3-0ed8-4484-ae7e-fea0f730b65e",
   "metadata": {},
   "outputs": [
    {
     "name": "stdout",
     "output_type": "stream",
     "text": [
      "5.288388388388388\n"
     ]
    }
   ],
   "source": [
    "print(sample_variance)"
   ]
  },
  {
   "cell_type": "markdown",
   "id": "e050adb4-2ba4-44c6-8e36-e0c9f6b78971",
   "metadata": {},
   "source": [
    "## Q9. How mean and variance are related in Binomial distribution and Poisson distribution?"
   ]
  },
  {
   "cell_type": "markdown",
   "id": "64fe4483-6251-4401-bc1c-7829a160631a",
   "metadata": {},
   "source": [
    "### In a binomial distribution, there are only two possible outcomes, i.e. success or failure. Conversely, there are an unlimited number of possible outcomes in the case of poisson distribution.\n",
    "### In binomial distribution Mean > Variance while in poisson distribution mean = variance."
   ]
  },
  {
   "cell_type": "markdown",
   "id": "9ade153e-34f8-4901-8ba3-c654b3a3f616",
   "metadata": {},
   "source": [
    "## Q10. In normal distribution with respect to mean position, where does the least frequent data appear?"
   ]
  },
  {
   "cell_type": "markdown",
   "id": "0e93e791-2e43-40f3-92b4-1723697a777a",
   "metadata": {},
   "source": [
    "### In normal distribution with respect to mean position, the least frequent data appear at the third standard deviation about the mean."
   ]
  },
  {
   "cell_type": "code",
   "execution_count": null,
   "id": "7d30629d-63b4-4401-aad4-5c3240ad6e4f",
   "metadata": {},
   "outputs": [],
   "source": []
  }
 ],
 "metadata": {
  "kernelspec": {
   "display_name": "Python 3 (ipykernel)",
   "language": "python",
   "name": "python3"
  },
  "language_info": {
   "codemirror_mode": {
    "name": "ipython",
    "version": 3
   },
   "file_extension": ".py",
   "mimetype": "text/x-python",
   "name": "python",
   "nbconvert_exporter": "python",
   "pygments_lexer": "ipython3",
   "version": "3.10.8"
  }
 },
 "nbformat": 4,
 "nbformat_minor": 5
}
