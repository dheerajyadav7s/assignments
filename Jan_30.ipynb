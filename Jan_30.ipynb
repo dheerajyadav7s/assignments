{
 "cells": [
  {
   "cell_type": "code",
   "execution_count": 1,
   "id": "0e103c48-ad67-4831-8902-15ac067cd9bd",
   "metadata": {},
   "outputs": [],
   "source": [
    "# solution 1"
   ]
  },
  {
   "cell_type": "code",
   "execution_count": 2,
   "id": "98a06d35-85bb-4476-8508-7045428b037c",
   "metadata": {},
   "outputs": [
    {
     "name": "stdin",
     "output_type": "stream",
     "text": [
      "enter the percentage  45\n"
     ]
    },
    {
     "name": "stdout",
     "output_type": "stream",
     "text": [
      "Grade D\n"
     ]
    }
   ],
   "source": [
    "marks=int(input(\"enter the percentage \"))\n",
    "if marks>90:\n",
    "    print(\"Grade A\")\n",
    "elif marks>80 and marks<=90:\n",
    "    print(\"Grade B\")\n",
    "elif marks>=60 and marks<=80:\n",
    "    print(\"Grade C\")\n",
    "else:\n",
    "    print(\"Grade D\")"
   ]
  },
  {
   "cell_type": "code",
   "execution_count": 3,
   "id": "f2b11687-4dca-4381-9edb-be1623614299",
   "metadata": {},
   "outputs": [],
   "source": [
    "# solution 2"
   ]
  },
  {
   "cell_type": "code",
   "execution_count": null,
   "id": "f7650c5a-c14c-4ad2-8be1-2c22e586efdf",
   "metadata": {},
   "outputs": [],
   "source": [
    "cost_price=int(input(\"enter the percentage \"))\n",
    "if cost_price>100000:\n",
    "    print(\"road tax: 15%\")\n",
    "elif cost_price>50000 and cost_price<100000 :\n",
    "    print(\"road tax: 15%\")\n"
   ]
  },
  {
   "cell_type": "code",
   "execution_count": null,
   "id": "fbbda474-d307-41c4-b1c7-09da11ab119d",
   "metadata": {},
   "outputs": [],
   "source": []
  },
  {
   "cell_type": "code",
   "execution_count": 4,
   "id": "3a99f436-e61f-48c3-ab5c-ff8dff381adf",
   "metadata": {},
   "outputs": [],
   "source": [
    "# solution 3"
   ]
  },
  {
   "cell_type": "code",
   "execution_count": 7,
   "id": "64883b24-ab60-449f-85cd-40be9e4e6c64",
   "metadata": {},
   "outputs": [
    {
     "name": "stdin",
     "output_type": "stream",
     "text": [
      "enter the city  agra\n"
     ]
    },
    {
     "name": "stdout",
     "output_type": "stream",
     "text": [
      "Taj Mahal\n"
     ]
    }
   ],
   "source": [
    "city= input(\"enter the city \")\n",
    "if city== \"delhi\":\n",
    "    print(\"Red Fort\")\n",
    "elif city == \"agra\":\n",
    "    print(\"Taj Mahal\")\n",
    "elif city == \"jaipur\":\n",
    "    print(\"Jal Mahal\")"
   ]
  },
  {
   "cell_type": "code",
   "execution_count": 8,
   "id": "fcbc1c41-f753-4185-b1ee-b84e8dba2d71",
   "metadata": {},
   "outputs": [],
   "source": [
    " # solution 4"
   ]
  },
  {
   "cell_type": "code",
   "execution_count": 11,
   "id": "e1882aad-7ab4-483c-a211-d1784f529fa4",
   "metadata": {},
   "outputs": [
    {
     "name": "stdin",
     "output_type": "stream",
     "text": [
      "enter the number 99\n"
     ]
    },
    {
     "name": "stdout",
     "output_type": "stream",
     "text": [
      "3\n"
     ]
    }
   ],
   "source": [
    "num=int(input(\"enter the number\"))\n",
    "count=0\n",
    "while num>=10:\n",
    "    num=num/3\n",
    "    count =count+1\n",
    "print(count)"
   ]
  },
  {
   "cell_type": "code",
   "execution_count": 12,
   "id": "b44ed1c4-b70d-4a3f-bb14-3f2e450fde80",
   "metadata": {},
   "outputs": [],
   "source": [
    "# solution 5"
   ]
  },
  {
   "cell_type": "markdown",
   "id": "5a5f093f-eca1-4fbe-af5f-4fae2371304b",
   "metadata": {},
   "source": [
    "### Python While Loop is used to execute a block of statements repeatedly until a given condition is satisfied. And when the condition becomes false, the line immediately after the loop in the program is executed."
   ]
  },
  {
   "cell_type": "code",
   "execution_count": 14,
   "id": "333f0795-d5dd-439d-8e4f-ba76657abbb7",
   "metadata": {},
   "outputs": [
    {
     "name": "stdin",
     "output_type": "stream",
     "text": [
      "enter the number to find table 3\n"
     ]
    },
    {
     "name": "stdout",
     "output_type": "stream",
     "text": [
      "3 * 1 = 3\n",
      "3 * 2 = 6\n",
      "3 * 3 = 9\n",
      "3 * 4 = 12\n",
      "3 * 5 = 15\n",
      "3 * 6 = 18\n",
      "3 * 7 = 21\n",
      "3 * 8 = 24\n",
      "3 * 9 = 27\n",
      "3 * 10 = 30\n"
     ]
    }
   ],
   "source": [
    "# for example\n",
    "n=int(input(\"enter the number to find table\"))\n",
    "i=1\n",
    "\n",
    "while i<=10:\n",
    "    print(n,\"*\",i,\"=\",n*i)\n",
    "    i=i+1"
   ]
  },
  {
   "cell_type": "code",
   "execution_count": 17,
   "id": "92a802ef-19f0-4e60-99ae-a2d75d0fcc41",
   "metadata": {},
   "outputs": [],
   "source": [
    "# solution 3"
   ]
  },
  {
   "cell_type": "code",
   "execution_count": null,
   "id": "a1a8632d-a088-42c9-9a1a-1f9361018abd",
   "metadata": {},
   "outputs": [],
   "source": [
    "# patterns "
   ]
  },
  {
   "cell_type": "code",
   "execution_count": 19,
   "id": "141265c9-57e2-4c03-b602-6bb874950d5b",
   "metadata": {},
   "outputs": [
    {
     "name": "stdin",
     "output_type": "stream",
     "text": [
      "Enter number of rows :  5\n"
     ]
    },
    {
     "name": "stdout",
     "output_type": "stream",
     "text": [
      "* \n",
      "* * \n",
      "* * * \n",
      "* * * * \n",
      "* * * * * \n"
     ]
    }
   ],
   "source": [
    "n = int(input('Enter number of rows : '))\n",
    " \n",
    "i = 1\n",
    "while i <= n :\n",
    "    j = 1\n",
    "    while j <= i:\n",
    "        print(\"*\", end = \" \")\n",
    "        j += 1\n",
    "    print()\n",
    "    i += 1"
   ]
  },
  {
   "cell_type": "code",
   "execution_count": 21,
   "id": "c6ad982a-8387-4416-9cd9-426eb9664a65",
   "metadata": {},
   "outputs": [
    {
     "name": "stdin",
     "output_type": "stream",
     "text": [
      "Enter number of rows :  5\n"
     ]
    },
    {
     "name": "stdout",
     "output_type": "stream",
     "text": [
      "1 \n",
      "2 2 \n",
      "3 3 3 \n",
      "4 4 4 4 \n",
      "5 5 5 5 5 \n"
     ]
    }
   ],
   "source": [
    "n = int(input('Enter number of rows : '))\n",
    " \n",
    "i = 1\n",
    "while i <= n :\n",
    "    j = 1\n",
    "    while j <= i:\n",
    "        print(i, end = \" \")\n",
    "        j += 1\n",
    "    print()\n",
    "    i += 1"
   ]
  },
  {
   "cell_type": "code",
   "execution_count": 1,
   "id": "995bebe9-1815-4996-a4cd-754d9a6d4507",
   "metadata": {},
   "outputs": [
    {
     "name": "stdin",
     "output_type": "stream",
     "text": [
      "Enter number of rows :  5\n"
     ]
    },
    {
     "name": "stdout",
     "output_type": "stream",
     "text": [
      "* * * * * \n",
      "* * * * \n",
      "* * * \n",
      "* * \n",
      "* \n"
     ]
    }
   ],
   "source": [
    "n = int(input('Enter number of rows : '))\n",
    " \n",
    "i = 1\n",
    "while i <= n :\n",
    "    j = n\n",
    "    while j >= i:\n",
    "        print(\"*\", end = \" \")\n",
    "        j -= 1\n",
    "    print()\n",
    "    i += 1"
   ]
  },
  {
   "cell_type": "code",
   "execution_count": 15,
   "id": "061e6d41-d8e2-493c-aa81-4925c0e0b485",
   "metadata": {},
   "outputs": [],
   "source": [
    "# soluion 7 and 8"
   ]
  },
  {
   "cell_type": "code",
   "execution_count": 16,
   "id": "26bfdc09-6efa-4888-ae20-5e2024ab138a",
   "metadata": {},
   "outputs": [
    {
     "name": "stdout",
     "output_type": "stream",
     "text": [
      "10\n",
      "9\n",
      "8\n",
      "7\n",
      "6\n",
      "5\n",
      "4\n",
      "3\n",
      "2\n",
      "1\n"
     ]
    }
   ],
   "source": [
    "num=10\n",
    "while num>0:\n",
    "    print(num)\n",
    "    num=num-1\n"
   ]
  },
  {
   "cell_type": "code",
   "execution_count": null,
   "id": "52527a85-d85b-4060-a0f5-99f346f0234e",
   "metadata": {},
   "outputs": [],
   "source": []
  }
 ],
 "metadata": {
  "kernelspec": {
   "display_name": "Python 3 (ipykernel)",
   "language": "python",
   "name": "python3"
  },
  "language_info": {
   "codemirror_mode": {
    "name": "ipython",
    "version": 3
   },
   "file_extension": ".py",
   "mimetype": "text/x-python",
   "name": "python",
   "nbconvert_exporter": "python",
   "pygments_lexer": "ipython3",
   "version": "3.10.8"
  }
 },
 "nbformat": 4,
 "nbformat_minor": 5
}
