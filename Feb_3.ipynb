{
 "cells": [
  {
   "cell_type": "markdown",
   "id": "a14bf6f7-24e4-44cf-aa58-19a68d3b8a7f",
   "metadata": {},
   "source": [
    "## Q1. Which keyword is used to create a function? Create a function to return a list of odd numbers in the range of 1 to 25."
   ]
  },
  {
   "cell_type": "markdown",
   "id": "e8ef25fe-11bf-42c8-8ac4-3d420910e024",
   "metadata": {},
   "source": [
    "### def keyword is used basically  before defining any function "
   ]
  },
  {
   "cell_type": "code",
   "execution_count": 1,
   "id": "35e406ca-10db-4069-821d-48745e95d70d",
   "metadata": {},
   "outputs": [],
   "source": [
    "def funt():\n",
    "    l=[]\n",
    "    for i in range(1,26):\n",
    "        if i%2!=0:\n",
    "            l.append(i)\n",
    "    return l        "
   ]
  },
  {
   "cell_type": "code",
   "execution_count": 2,
   "id": "d426cb1d-eac6-428d-abe5-3698d2d3605c",
   "metadata": {},
   "outputs": [
    {
     "data": {
      "text/plain": [
       "[1, 3, 5, 7, 9, 11, 13, 15, 17, 19, 21, 23, 25]"
      ]
     },
     "execution_count": 2,
     "metadata": {},
     "output_type": "execute_result"
    }
   ],
   "source": [
    "funt()"
   ]
  },
  {
   "cell_type": "markdown",
   "id": "b1810631-4a9a-46dd-ae44-d57a9315ae90",
   "metadata": {},
   "source": [
    "## Q2. Why *args and **kwargs is used in some functions? Create a function each for *args and **kwargs to demonstrate their use."
   ]
  },
  {
   "cell_type": "markdown",
   "id": "a045b8b1-9bba-460a-a3c1-d36ef0489645",
   "metadata": {},
   "source": [
    "### *args is used as an argument for a function that means we can pass any number of arguments in that funciton\n",
    "### **args is also used as an argument for a function but that funciton needs to pass  key value pair then that funtiocn will return a a dictionary put of it . "
   ]
  },
  {
   "cell_type": "code",
   "execution_count": 5,
   "id": "6c94da1d-b920-4e82-8a41-682c2f72b280",
   "metadata": {},
   "outputs": [],
   "source": [
    "\n",
    "def test(*args):\n",
    "    return args\n",
    "# we can pass eny number of arguments here it will return in the form of tuple"
   ]
  },
  {
   "cell_type": "code",
   "execution_count": 4,
   "id": "282de506-1c7e-48c8-8d87-64969e780c99",
   "metadata": {},
   "outputs": [
    {
     "data": {
      "text/plain": [
       "(1, 2, 3, 4)"
      ]
     },
     "execution_count": 4,
     "metadata": {},
     "output_type": "execute_result"
    }
   ],
   "source": [
    "test(1,2,3,4)"
   ]
  },
  {
   "cell_type": "code",
   "execution_count": 8,
   "id": "199e6afb-f79a-4f13-8839-e2b76a17ed58",
   "metadata": {},
   "outputs": [],
   "source": [
    "def test1(**args):\n",
    "    return args\n",
    "# it will return a dictionay based on the parameters provided"
   ]
  },
  {
   "cell_type": "code",
   "execution_count": 9,
   "id": "58ebd6e5-eae9-470a-ac7d-5d3e5b4c3c6c",
   "metadata": {},
   "outputs": [
    {
     "data": {
      "text/plain": [
       "{'a': [1, 2, 3, 4, 5], 'b': 'pwskills', 'c': 100}"
      ]
     },
     "execution_count": 9,
     "metadata": {},
     "output_type": "execute_result"
    }
   ],
   "source": [
    "test1(a=[1,2,3,4,5],b=\"pwskills\",c=100)"
   ]
  },
  {
   "cell_type": "markdown",
   "id": "e594f5f6-31ad-464f-900d-8dd6cfb76253",
   "metadata": {},
   "source": [
    "## Q3. What is an iterator in python? Name the method used to initialise the iterator object and the method used for iteration. Use these methods to print the first five elements of the given list [2, 4, 6, 8, 10, 12, 14, 16, 18, 20]."
   ]
  },
  {
   "cell_type": "markdown",
   "id": "acbdb135-e3d1-4fc1-a95e-b586493ba105",
   "metadata": {},
   "source": [
    "### An Iterator is an object that can be used to loop through collections, like List and Set."
   ]
  },
  {
   "cell_type": "markdown",
   "id": "3706ac7c-81cb-479d-acb3-8b6a786cfce3",
   "metadata": {},
   "source": [
    "### Iter() method is used to initialize the iterator object so that the instance of this object can be used for iterating. and the next() method is used for iteration."
   ]
  },
  {
   "cell_type": "code",
   "execution_count": 34,
   "id": "aa60c421-6308-4218-9be7-76fe66e2c38d",
   "metadata": {},
   "outputs": [],
   "source": [
    "l=[2, 4, 6, 8, 10, 12, 14, 16, 18, 20]\n"
   ]
  },
  {
   "cell_type": "code",
   "execution_count": 35,
   "id": "73edf34f-6969-4a90-b03b-531eaa6d6373",
   "metadata": {},
   "outputs": [
    {
     "ename": "TypeError",
     "evalue": "'list' object is not an iterator",
     "output_type": "error",
     "traceback": [
      "\u001b[0;31m---------------------------------------------------------------------------\u001b[0m",
      "\u001b[0;31mTypeError\u001b[0m                                 Traceback (most recent call last)",
      "Cell \u001b[0;32mIn[35], line 1\u001b[0m\n\u001b[0;32m----> 1\u001b[0m \u001b[38;5;28;43mnext\u001b[39;49m\u001b[43m(\u001b[49m\u001b[43ml\u001b[49m\u001b[43m)\u001b[49m\n",
      "\u001b[0;31mTypeError\u001b[0m: 'list' object is not an iterator"
     ]
    }
   ],
   "source": [
    "next(l)"
   ]
  },
  {
   "cell_type": "code",
   "execution_count": 39,
   "id": "086346f9-8f70-4007-a304-f4f2428f414e",
   "metadata": {},
   "outputs": [],
   "source": [
    "l1=iter(l)\n",
    "# now iterable becomes iterator"
   ]
  },
  {
   "cell_type": "code",
   "execution_count": 40,
   "id": "c4c7c241-30c8-40e6-800d-df18083963fd",
   "metadata": {},
   "outputs": [
    {
     "data": {
      "text/plain": [
       "2"
      ]
     },
     "execution_count": 40,
     "metadata": {},
     "output_type": "execute_result"
    }
   ],
   "source": [
    "next(l1)"
   ]
  },
  {
   "cell_type": "code",
   "execution_count": 41,
   "id": "8b722260-63e8-46e8-8109-0b902f4569ac",
   "metadata": {},
   "outputs": [
    {
     "data": {
      "text/plain": [
       "4"
      ]
     },
     "execution_count": 41,
     "metadata": {},
     "output_type": "execute_result"
    }
   ],
   "source": [
    "next(l1)"
   ]
  },
  {
   "cell_type": "code",
   "execution_count": 42,
   "id": "8cc1f777-de23-48b8-a066-965afcb4bea8",
   "metadata": {},
   "outputs": [
    {
     "data": {
      "text/plain": [
       "6"
      ]
     },
     "execution_count": 42,
     "metadata": {},
     "output_type": "execute_result"
    }
   ],
   "source": [
    "next(l1)"
   ]
  },
  {
   "cell_type": "code",
   "execution_count": 43,
   "id": "9183477d-1a30-4435-b559-1ddeea87bd25",
   "metadata": {},
   "outputs": [
    {
     "data": {
      "text/plain": [
       "8"
      ]
     },
     "execution_count": 43,
     "metadata": {},
     "output_type": "execute_result"
    }
   ],
   "source": [
    "next(l1)"
   ]
  },
  {
   "cell_type": "code",
   "execution_count": 44,
   "id": "a24070f7-d2e1-4adb-b42c-c5b588a5373b",
   "metadata": {},
   "outputs": [
    {
     "data": {
      "text/plain": [
       "10"
      ]
     },
     "execution_count": 44,
     "metadata": {},
     "output_type": "execute_result"
    }
   ],
   "source": [
    "next(l1)"
   ]
  },
  {
   "cell_type": "markdown",
   "id": "49d13836-fa20-40a9-afcd-812d0b0b1a9e",
   "metadata": {},
   "source": [
    "## Q4. What is a generator function in python? Why yield keyword is used? Give an example of a generator function."
   ]
  },
  {
   "cell_type": "markdown",
   "id": "13df13f4-8cb1-498b-95a1-a514138945bb",
   "metadata": {},
   "source": [
    "### Genrator function is used to optimaize the memory consumption it generates the continues outcome without holding the memory"
   ]
  },
  {
   "cell_type": "markdown",
   "id": "b8c452c2-086b-4b96-b5d5-c5fee754ecfe",
   "metadata": {},
   "source": [
    "### yeild means it just throw(return) the data from the functon which is helpful in the in case of returning huge data at a single time"
   ]
  },
  {
   "cell_type": "code",
   "execution_count": 32,
   "id": "f01111db-9cba-4c8c-ae3c-04ef891b105c",
   "metadata": {},
   "outputs": [],
   "source": [
    "def test(n):\n",
    "    i=1\n",
    "    while i<=n:\n",
    "        yield i\n",
    "        i=i+1"
   ]
  },
  {
   "cell_type": "code",
   "execution_count": 33,
   "id": "fd8fd424-24e6-4ea3-9604-a047aab39080",
   "metadata": {},
   "outputs": [
    {
     "name": "stdout",
     "output_type": "stream",
     "text": [
      "1\n",
      "2\n",
      "3\n",
      "4\n",
      "5\n",
      "6\n",
      "7\n",
      "8\n",
      "9\n",
      "10\n"
     ]
    }
   ],
   "source": [
    "for i in test(10):\n",
    "    print(i)"
   ]
  },
  {
   "cell_type": "markdown",
   "id": "af5ddc57-f3b4-47a0-b1ad-b2defa392d9e",
   "metadata": {},
   "source": [
    "## Q5. Create a generator function for prime numbers less than 1000. Use the next() method to print the first 20 prime numbers."
   ]
  },
  {
   "cell_type": "code",
   "execution_count": 45,
   "id": "8f2260df-6506-4e5d-b8d5-f17999cbc429",
   "metadata": {},
   "outputs": [
    {
     "name": "stdout",
     "output_type": "stream",
     "text": [
      "2\n",
      "3\n",
      "5\n",
      "7\n",
      "11\n",
      "13\n",
      "17\n",
      "19\n",
      "23\n",
      "29\n",
      "31\n",
      "37\n",
      "41\n",
      "43\n",
      "47\n",
      "53\n",
      "59\n",
      "61\n",
      "67\n",
      "71\n"
     ]
    }
   ],
   "source": [
    "def is_prime(num):\n",
    "    if num <= 1:\n",
    "        return False\n",
    "    if num <= 3:\n",
    "        return True\n",
    "    if num % 2 == 0 or num % 3 == 0:\n",
    "        return False\n",
    "    i = 5\n",
    "    while i * i <= num:\n",
    "        if num % i == 0 or num % (i + 2) == 0:\n",
    "            return False\n",
    "        i += 6\n",
    "    return True\n",
    "\n",
    "def prime_generator(limit):\n",
    "    num = 2\n",
    "    while num < limit:\n",
    "        if is_prime(num):\n",
    "            yield num\n",
    "        num += 1\n",
    "\n",
    "# Using the generator to print the first 20 prime numbers\n",
    "prime_gen = prime_generator(1000)\n",
    "for _ in range(20):\n",
    "    print(next(prime_gen))"
   ]
  },
  {
   "cell_type": "markdown",
   "id": "e2cbb140-4f6c-40df-8359-bc74fe9a1f51",
   "metadata": {},
   "source": [
    "## Q6. Write a python program to print the first 10 Fibonacci numbers using a while loop."
   ]
  },
  {
   "cell_type": "code",
   "execution_count": 11,
   "id": "bb5db37f-49b9-4484-b9f4-6d2722d2e5a8",
   "metadata": {},
   "outputs": [
    {
     "name": "stdout",
     "output_type": "stream",
     "text": [
      "0\n",
      "1\n",
      "1\n",
      "2\n",
      "3\n",
      "5\n",
      "8\n",
      "13\n",
      "21\n",
      "34\n"
     ]
    }
   ],
   "source": [
    "a,b=0,1\n",
    "s=0\n",
    "i=1\n",
    "while i<=10:\n",
    "    s=a+b\n",
    "    print(a)\n",
    "    a,b=b,s\n",
    "    i=i+1\n",
    "    "
   ]
  },
  {
   "cell_type": "markdown",
   "id": "bd8efc75-1308-42d0-81b0-c5352f8a8b77",
   "metadata": {},
   "source": [
    "## Q7. Write a List Comprehension to iterate through the given string: ‘pwskills’. Expected output: ['p', 'w', 's', 'k', 'i', 'l', 'l', 's']"
   ]
  },
  {
   "cell_type": "code",
   "execution_count": 12,
   "id": "eb1ff110-3a5b-4170-9689-5860f5e1619f",
   "metadata": {},
   "outputs": [
    {
     "data": {
      "text/plain": [
       "['p', 'w', 's', 'k', 'i', 'l', 'l', 's']"
      ]
     },
     "execution_count": 12,
     "metadata": {},
     "output_type": "execute_result"
    }
   ],
   "source": [
    "string=\"pwskills\"\n",
    "[i for i in string  ]"
   ]
  },
  {
   "cell_type": "markdown",
   "id": "034ae098-62cf-49cf-9e73-c78a9be2f24e",
   "metadata": {},
   "source": [
    "## Q8. Write a python program to check whether a given number is Palindrome or not using a while loop."
   ]
  },
  {
   "cell_type": "code",
   "execution_count": 24,
   "id": "cdac4efa-38a0-418f-bc3e-c80fc7156827",
   "metadata": {},
   "outputs": [
    {
     "name": "stdin",
     "output_type": "stream",
     "text": [
      "enter the number 1221\n"
     ]
    },
    {
     "name": "stdout",
     "output_type": "stream",
     "text": [
      "palindrome\n"
     ]
    }
   ],
   "source": [
    "num=int(input(\"enter the number\"))\n",
    "checker=num\n",
    "result=0\n",
    "while num>0:\n",
    "    temp=num%10\n",
    "    result=temp+result*10\n",
    "    num=num//10\n",
    "if checker==result:\n",
    "    print(\"palindrome\")\n",
    "else:\n",
    "    print(\"not a palindrome\")"
   ]
  },
  {
   "cell_type": "markdown",
   "id": "0bb916ee-2c88-4e69-9c9f-774c52921771",
   "metadata": {},
   "source": [
    "## Q9. Write a code to print odd numbers from 1 to 100 using list comprehension.\n",
    "## Note: Use a list comprehension to create a list from 1 to 100 and use another List comprehension to filter out odd numbers."
   ]
  },
  {
   "cell_type": "code",
   "execution_count": 29,
   "id": "46c8cdb9-72f7-4f65-9e55-19c5aad5dfae",
   "metadata": {},
   "outputs": [],
   "source": [
    "l=[ i for i in range(1,101)]"
   ]
  },
  {
   "cell_type": "code",
   "execution_count": 30,
   "id": "37587b57-4d23-46f4-bc17-c630ec75169d",
   "metadata": {},
   "outputs": [
    {
     "data": {
      "text/plain": [
       "[1,\n",
       " 3,\n",
       " 5,\n",
       " 7,\n",
       " 9,\n",
       " 11,\n",
       " 13,\n",
       " 15,\n",
       " 17,\n",
       " 19,\n",
       " 21,\n",
       " 23,\n",
       " 25,\n",
       " 27,\n",
       " 29,\n",
       " 31,\n",
       " 33,\n",
       " 35,\n",
       " 37,\n",
       " 39,\n",
       " 41,\n",
       " 43,\n",
       " 45,\n",
       " 47,\n",
       " 49,\n",
       " 51,\n",
       " 53,\n",
       " 55,\n",
       " 57,\n",
       " 59,\n",
       " 61,\n",
       " 63,\n",
       " 65,\n",
       " 67,\n",
       " 69,\n",
       " 71,\n",
       " 73,\n",
       " 75,\n",
       " 77,\n",
       " 79,\n",
       " 81,\n",
       " 83,\n",
       " 85,\n",
       " 87,\n",
       " 89,\n",
       " 91,\n",
       " 93,\n",
       " 95,\n",
       " 97,\n",
       " 99]"
      ]
     },
     "execution_count": 30,
     "metadata": {},
     "output_type": "execute_result"
    }
   ],
   "source": [
    "[ i for i in l if i%2!=0]"
   ]
  },
  {
   "cell_type": "code",
   "execution_count": null,
   "id": "33931a69-6132-4b52-9184-bc1c4f7b8dd1",
   "metadata": {},
   "outputs": [],
   "source": []
  }
 ],
 "metadata": {
  "kernelspec": {
   "display_name": "Python 3 (ipykernel)",
   "language": "python",
   "name": "python3"
  },
  "language_info": {
   "codemirror_mode": {
    "name": "ipython",
    "version": 3
   },
   "file_extension": ".py",
   "mimetype": "text/x-python",
   "name": "python",
   "nbconvert_exporter": "python",
   "pygments_lexer": "ipython3",
   "version": "3.10.8"
  }
 },
 "nbformat": 4,
 "nbformat_minor": 5
}
