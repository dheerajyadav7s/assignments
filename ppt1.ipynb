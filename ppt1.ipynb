{
 "cells": [
  {
   "cell_type": "code",
   "execution_count": 1,
   "id": "ed761df4-0ead-432c-b4c1-a73f881c2720",
   "metadata": {},
   "outputs": [],
   "source": [
    "#1. Write a Python program to reverse a string without using any built-in string reversal functions.\n"
   ]
  },
  {
   "cell_type": "code",
   "execution_count": 3,
   "id": "809787c0-9cab-4399-910c-d08453f83a04",
   "metadata": {},
   "outputs": [
    {
     "name": "stdout",
     "output_type": "stream",
     "text": [
      "sllikswp\n"
     ]
    }
   ],
   "source": [
    "s='pwskills'\n",
    "result=\"\"\n",
    "length=len(s)\n",
    "while length>0:\n",
    "    result =result+s[length-1]\n",
    "    length=length-1\n",
    "    \n",
    "print(result)"
   ]
  },
  {
   "cell_type": "code",
   "execution_count": 4,
   "id": "0eaed689-1db5-4fbd-aa6f-d2e65c5d9367",
   "metadata": {},
   "outputs": [],
   "source": [
    "#2. Implement a function to check if a given string is a palindrome.\n"
   ]
  },
  {
   "cell_type": "code",
   "execution_count": 6,
   "id": "406c1dd6-f129-4b1b-97fd-e1c3984dfc8e",
   "metadata": {},
   "outputs": [
    {
     "data": {
      "text/plain": [
       "False"
      ]
     },
     "execution_count": 6,
     "metadata": {},
     "output_type": "execute_result"
    }
   ],
   "source": [
    "def isPalindrome(str):\n",
    " \n",
    "    # Run loop from 0 to len/2\n",
    "    for i in range(0, int(len(str)/2)):\n",
    "        if str[i] != str[len(str)-i-1]:\n",
    "            return False\n",
    "    return True\n",
    "isPalindrome('pwskills')\n",
    " "
   ]
  },
  {
   "cell_type": "code",
   "execution_count": 9,
   "id": "a75dd0a1-6274-4420-91dc-05d1194b991f",
   "metadata": {},
   "outputs": [
    {
     "data": {
      "text/plain": [
       "True"
      ]
     },
     "execution_count": 9,
     "metadata": {},
     "output_type": "execute_result"
    }
   ],
   "source": [
    "isPalindrome(\"madam\")"
   ]
  },
  {
   "cell_type": "code",
   "execution_count": 25,
   "id": "d72e069c-ad72-4a67-8076-e5aa8286e4db",
   "metadata": {},
   "outputs": [
    {
     "data": {
      "text/plain": [
       "555"
      ]
     },
     "execution_count": 25,
     "metadata": {},
     "output_type": "execute_result"
    }
   ],
   "source": [
    "#3. Write a program to find the largest element in a given list.\n",
    "x=[1,2,3,4,555,5,6,76,78]\n",
    "def ma(l):\n",
    "    m=l[0]\n",
    "    for i in l:\n",
    "        if m < i:\n",
    "            m=i\n",
    "            \n",
    "    return m\n",
    "ma(x)\n",
    "    "
   ]
  },
  {
   "cell_type": "code",
   "execution_count": 12,
   "id": "71926f58-30cf-4625-813c-5ed1bba9722f",
   "metadata": {},
   "outputs": [],
   "source": [
    "#4. Implement a function to count the occurrence of each element in a list"
   ]
  },
  {
   "cell_type": "code",
   "execution_count": 13,
   "id": "f5c1b76e-5068-4012-9961-a57b2869739a",
   "metadata": {},
   "outputs": [
    {
     "name": "stdout",
     "output_type": "stream",
     "text": [
      "Element Count\n",
      "2    3\n",
      "1    2\n",
      "3    2\n",
      "4    2\n",
      "5    2\n",
      "dtype: int64\n"
     ]
    }
   ],
   "source": [
    "import pandas as pd\n",
    " \n",
    "l = [1, 1, 2, 2, 2, 3, 3, 4, 4, 5, 5]\n",
    " \n",
    "count = pd.Series(l).value_counts()\n",
    "print(\"Element Count\")\n",
    "print(count)"
   ]
  },
  {
   "cell_type": "code",
   "execution_count": 26,
   "id": "28d4dfbd-a28f-4513-a4e5-235f6ea47568",
   "metadata": {},
   "outputs": [],
   "source": [
    "# 5. Write a Python program to find the second largest number in a list.\n",
    "x=[1,2,3,4,5,6,76,75,78,78]\n",
    "\n",
    "def ma(l):\n",
    "    m=max(l)\n",
    "    z= l[0]\n",
    "    for i in l:\n",
    "        if i < m:\n",
    "            z=max(z,i)\n",
    "    return z\n",
    "              "
   ]
  },
  {
   "cell_type": "code",
   "execution_count": 27,
   "id": "9c455dac-7b57-4ea6-83c4-c46f90e70a5c",
   "metadata": {},
   "outputs": [
    {
     "data": {
      "text/plain": [
       "76"
      ]
     },
     "execution_count": 27,
     "metadata": {},
     "output_type": "execute_result"
    }
   ],
   "source": [
    "ma(x)"
   ]
  },
  {
   "cell_type": "code",
   "execution_count": 28,
   "id": "7ecafe36-7ad3-4753-95d2-21ba9f97740f",
   "metadata": {},
   "outputs": [],
   "source": [
    "l=[1,2,34,5,6,6,66,78,0,0,1,2]"
   ]
  },
  {
   "cell_type": "code",
   "execution_count": 29,
   "id": "4168c52c-e984-41d1-a5d6-4d32c9f33849",
   "metadata": {},
   "outputs": [
    {
     "data": {
      "text/plain": [
       "66"
      ]
     },
     "execution_count": 29,
     "metadata": {},
     "output_type": "execute_result"
    }
   ],
   "source": [
    "ma(l)"
   ]
  },
  {
   "cell_type": "code",
   "execution_count": 30,
   "id": "6c78974a-08e5-485e-92e6-98661f90af4b",
   "metadata": {},
   "outputs": [],
   "source": [
    "# 6. Implement a function to remove duplicate elements from a list."
   ]
  },
  {
   "cell_type": "code",
   "execution_count": 32,
   "id": "ecc7f1cf-1dc3-461c-ab29-9cad32463e5a",
   "metadata": {},
   "outputs": [
    {
     "name": "stdout",
     "output_type": "stream",
     "text": [
      "[2, 4, 10, 20, 5]\n"
     ]
    }
   ],
   "source": [
    "def Remove(duplicate):\n",
    "    final_list = []\n",
    "    for i in duplicate:\n",
    "        if i not in final_list:\n",
    "            final_list.append(i)\n",
    "    return final_list\n",
    "     \n",
    "\n",
    "duplicate = [2, 4, 10, 20, 5, 2, 20, 4,10,5]\n",
    "print(Remove(duplicate))"
   ]
  },
  {
   "cell_type": "code",
   "execution_count": 55,
   "id": "c8000552-a99a-46c9-a2bb-e67c8f4b00ef",
   "metadata": {},
   "outputs": [
    {
     "name": "stdin",
     "output_type": "stream",
     "text": [
      "enter the number to find fact 12\n"
     ]
    },
    {
     "data": {
      "text/plain": [
       "479001600"
      ]
     },
     "execution_count": 55,
     "metadata": {},
     "output_type": "execute_result"
    }
   ],
   "source": [
    "# 7. Write a program to calculate the factorial of a given number.\n",
    "\n",
    "n=int(input(\"enter the number to find fact\"))\n",
    "fact=1\n",
    "while n>0:\n",
    "    fact=fact*n\n",
    "    n=n-1\n",
    "fact"
   ]
  },
  {
   "cell_type": "code",
   "execution_count": 34,
   "id": "042fa7ed-460e-4693-92bf-aa91591a3ae7",
   "metadata": {},
   "outputs": [
    {
     "name": "stdout",
     "output_type": "stream",
     "text": [
      "11 is a prime number\n"
     ]
    }
   ],
   "source": [
    "# 8. Implement a function to check if a given number is prime.\n",
    "num = 11\n",
    "if num > 1:\n",
    "    # Iterate from 2 to n / 2\n",
    "    for i in range(2, int(num/2)+1):\n",
    "        # If num is divisible by any number between\n",
    "        if (num % i) == 0:\n",
    "            print(num, \"is not a prime number\")\n",
    "            break\n",
    "    else:\n",
    "        print(num, \"is a prime number\")\n",
    "else:\n",
    "    print(num, \"is not a prime number\")"
   ]
  },
  {
   "cell_type": "code",
   "execution_count": 35,
   "id": "787bc49c-a979-46e4-adc7-c709774da216",
   "metadata": {},
   "outputs": [],
   "source": [
    "# 9. Write a Python program to sort a list of integers in ascending order."
   ]
  },
  {
   "cell_type": "code",
   "execution_count": 47,
   "id": "cb68440c-ea31-4dc3-a92b-ab96754fbdc2",
   "metadata": {},
   "outputs": [],
   "source": [
    "numbers=[2,3,4,5,6222,1,0,33]\n",
    "numbers.sort()"
   ]
  },
  {
   "cell_type": "code",
   "execution_count": 50,
   "id": "b785a5f4-0047-4799-9936-b7d25bde4ab0",
   "metadata": {},
   "outputs": [
    {
     "name": "stdout",
     "output_type": "stream",
     "text": [
      "None\n",
      "[0, 1, 2, 3, 4, 5, 33, 6222]\n"
     ]
    }
   ],
   "source": [
    "print(numbers.sort())\n",
    "print(numbers)"
   ]
  },
  {
   "cell_type": "code",
   "execution_count": 51,
   "id": "5548eca0-4628-4814-8c7d-8d0d64e28e0a",
   "metadata": {},
   "outputs": [],
   "source": [
    "# 10. Implement a function to find the sum of all numbers in a list.\n"
   ]
  },
  {
   "cell_type": "code",
   "execution_count": 53,
   "id": "be21502e-e48a-46b4-87f4-8d567274e3b2",
   "metadata": {},
   "outputs": [
    {
     "data": {
      "text/plain": [
       "6270"
      ]
     },
     "execution_count": 53,
     "metadata": {},
     "output_type": "execute_result"
    }
   ],
   "source": [
    "def add(l):\n",
    "    result=0\n",
    "    for i in l:\n",
    "        result  =result+i\n",
    "    return result\n",
    "add(numbers)\n",
    "        "
   ]
  },
  {
   "cell_type": "code",
   "execution_count": 54,
   "id": "e53d37ad-691a-437f-a6b0-207f260a6961",
   "metadata": {},
   "outputs": [],
   "source": [
    "# 11. Write a program to find the common elements between two lists.\n"
   ]
  },
  {
   "cell_type": "code",
   "execution_count": 56,
   "id": "319143bc-27f9-43cf-a852-f41a202c46cb",
   "metadata": {},
   "outputs": [
    {
     "name": "stdout",
     "output_type": "stream",
     "text": [
      "The common elements in the two lists are: \n",
      "[3, 3, 4, 5]\n"
     ]
    }
   ],
   "source": [
    "def common_member(a, b):\n",
    "    result = [i for i in a if i in b]\n",
    "    return result\n",
    " \n",
    "a = [3, 2, 3, 4, 5]\n",
    "b = [5, 3, 4, 8, 9]\n",
    " \n",
    "print(\"The common elements in the two lists are: \")\n",
    "print(common_member(a, b))"
   ]
  },
  {
   "cell_type": "code",
   "execution_count": 57,
   "id": "49e1eb26-6436-4a11-95bb-9bbc4266849a",
   "metadata": {},
   "outputs": [],
   "source": [
    "# 12. Implement a function to check if a given string is an anagram of another string"
   ]
  },
  {
   "cell_type": "code",
   "execution_count": 59,
   "id": "8cbde743-06d6-4b61-985f-f55dbc8cca1c",
   "metadata": {},
   "outputs": [
    {
     "name": "stdout",
     "output_type": "stream",
     "text": [
      "The strings are anagrams.\n"
     ]
    }
   ],
   "source": [
    "def check(s1, s2):\n",
    "     \n",
    "    \n",
    "    if(sorted(s1)== sorted(s2)):\n",
    "        print(\"The strings are anagrams.\")\n",
    "    else:\n",
    "        print(\"The strings aren't anagrams.\")        \n",
    "\n",
    "        \n",
    "s1 =\"dog\"\n",
    "s2 =\"god\"\n",
    "check(s1, s2)"
   ]
  },
  {
   "cell_type": "code",
   "execution_count": 60,
   "id": "f0f26cad-26ed-42ee-9b0a-8502da2d4650",
   "metadata": {},
   "outputs": [],
   "source": [
    "# 13. Write a Python program to generate all permutations of a given string.\n"
   ]
  },
  {
   "cell_type": "code",
   "execution_count": 61,
   "id": "2625283b-e1e7-4276-96bc-2f1695757cc9",
   "metadata": {},
   "outputs": [],
   "source": [
    "# 14. Implement a function to calculate the Fibonacci sequence up to a given number of terms.\n"
   ]
  },
  {
   "cell_type": "code",
   "execution_count": 19,
   "id": "1f42cf25-9e3d-418e-8b3a-e8ea01fae661",
   "metadata": {},
   "outputs": [],
   "source": [
    "def fib(n):\n",
    "    a=0\n",
    "    b=1\n",
    "    sum=0\n",
    "    i=1\n",
    "    l=[]\n",
    "    while i<=n:\n",
    "        a,b=b,sum\n",
    "        l.append(sum)\n",
    "        sum=a+b\n",
    "        i=i+1  \n",
    "    return l\n",
    "    \n",
    "    \n",
    "    "
   ]
  },
  {
   "cell_type": "code",
   "execution_count": 20,
   "id": "e70dbc40-e899-40bd-82cd-94501ef438b1",
   "metadata": {},
   "outputs": [
    {
     "data": {
      "text/plain": [
       "[0, 1, 1, 2, 3, 5, 8]"
      ]
     },
     "execution_count": 20,
     "metadata": {},
     "output_type": "execute_result"
    }
   ],
   "source": [
    "fib(7)"
   ]
  },
  {
   "cell_type": "code",
   "execution_count": 21,
   "id": "875c9cec-1a9f-4e5f-9547-60db06adc8f9",
   "metadata": {},
   "outputs": [],
   "source": [
    "# 15. Write a program to find the median of a list of numbers."
   ]
  },
  {
   "cell_type": "code",
   "execution_count": 22,
   "id": "b4b066f7-c220-4c77-b320-f544e2124a1a",
   "metadata": {},
   "outputs": [],
   "source": [
    "l=[1,2,3,4,2,3,444,5,6,7,2]\n",
    "import numpy as np\n",
    "median=np.median(l)"
   ]
  },
  {
   "cell_type": "code",
   "execution_count": 23,
   "id": "0c3aad3c-13f5-402a-822d-97da27e1b2ab",
   "metadata": {},
   "outputs": [
    {
     "data": {
      "text/plain": [
       "3.0"
      ]
     },
     "execution_count": 23,
     "metadata": {},
     "output_type": "execute_result"
    }
   ],
   "source": [
    "median"
   ]
  },
  {
   "cell_type": "code",
   "execution_count": 24,
   "id": "4b054b51-1567-4b4e-88cd-432e91e0a736",
   "metadata": {},
   "outputs": [],
   "source": [
    "# 16. Implement a function to check if a given list is sorted in non-decreasing order.\n"
   ]
  },
  {
   "cell_type": "code",
   "execution_count": 25,
   "id": "56634af1-00bf-4e1c-9d82-f4dc59fc9785",
   "metadata": {},
   "outputs": [
    {
     "name": "stdout",
     "output_type": "stream",
     "text": [
      "The common elements in the two lists are: \n",
      "[3, 3, 4, 5]\n"
     ]
    }
   ],
   "source": [
    "# 17. Write a Python program to find the intersection of two lists.\n",
    "\n",
    "def common_member(a, b):\n",
    "    result = [i for i in a if i in b]\n",
    "    return result\n",
    " \n",
    "a = [3, 2, 3, 4, 5]\n",
    "b = [5, 3, 4, 8, 9]\n",
    " \n",
    "print(\"The common elements in the two lists are: \")\n",
    "print(common_member(a, b))"
   ]
  },
  {
   "cell_type": "code",
   "execution_count": 26,
   "id": "3fab45df-c5bc-457b-b227-7b8fab9d0bc3",
   "metadata": {},
   "outputs": [],
   "source": [
    "# 18. Implement a function to find the maximum subarray sum in a given list."
   ]
  },
  {
   "cell_type": "code",
   "execution_count": 27,
   "id": "c2016c15-e4ee-4e50-81eb-f65888a0b2e6",
   "metadata": {},
   "outputs": [],
   "source": [
    "# 19. Write a program to remove all vowels from a given string.\n"
   ]
  },
  {
   "cell_type": "code",
   "execution_count": 28,
   "id": "ac91cd7a-cbfc-4428-8d3c-3c6088960aeb",
   "metadata": {},
   "outputs": [],
   "source": [
    "def rem_vowel(string):\n",
    "    vowels = ['a','e','i','o','u']\n",
    "    result = [letter for letter in string if letter.lower() not in vowels]\n",
    "    result = ''.join(result)\n",
    "    print(result)\n",
    "  \n"
   ]
  },
  {
   "cell_type": "code",
   "execution_count": 30,
   "id": "0443e463-a98f-4fe1-8ce9-741db8ae45f0",
   "metadata": {},
   "outputs": [
    {
     "name": "stdout",
     "output_type": "stream",
     "text": [
      "Hll ths s my prgrmm\n",
      "Lvng Pythn LL\n"
     ]
    }
   ],
   "source": [
    "string = \"Hello this is my programme\"\n",
    "rem_vowel(string)\n",
    "string = \"Loving Python LOL\"\n",
    "rem_vowel(string)"
   ]
  },
  {
   "cell_type": "code",
   "execution_count": 31,
   "id": "32ae192a-11c3-46cc-93ef-8842c7a51317",
   "metadata": {},
   "outputs": [],
   "source": [
    "# 20. Implement a function to reverse the order of words in a given sentence.\n"
   ]
  },
  {
   "cell_type": "code",
   "execution_count": 32,
   "id": "afe912ce-9a0d-44cd-86ec-8a0c9bb9082a",
   "metadata": {},
   "outputs": [
    {
     "name": "stdout",
     "output_type": "stream",
     "text": [
      "much very program this like i\n"
     ]
    }
   ],
   "source": [
    "s = \"i like this program very much\"\n",
    "words = s.split(' ')\n",
    "string = []\n",
    "for word in words:\n",
    "    string.insert(0, word)\n",
    " \n",
    " \n",
    "print(\" \".join(string))"
   ]
  },
  {
   "cell_type": "code",
   "execution_count": 33,
   "id": "69b7022e-ff5a-4aee-a219-8fe066736873",
   "metadata": {},
   "outputs": [],
   "source": [
    "# 21. Write a Python program to check if two strings are anagrams of each other.\n"
   ]
  },
  {
   "cell_type": "code",
   "execution_count": 34,
   "id": "647eff3d-f655-4318-a7c5-c156bd7505a6",
   "metadata": {},
   "outputs": [
    {
     "name": "stdout",
     "output_type": "stream",
     "text": [
      "The strings are anagrams.\n"
     ]
    }
   ],
   "source": [
    "def check(s1, s2):\n",
    "     \n",
    "    \n",
    "    if(sorted(s1)== sorted(s2)):\n",
    "        print(\"The strings are anagrams.\")\n",
    "    else:\n",
    "        print(\"The strings aren't anagrams.\")        \n",
    "\n",
    "        \n",
    "s1 =\"dog\"\n",
    "s2 =\"god\"\n",
    "check(s1, s2)"
   ]
  },
  {
   "cell_type": "code",
   "execution_count": 35,
   "id": "038f8232-ea21-4787-bf7b-238833d7d5eb",
   "metadata": {},
   "outputs": [],
   "source": [
    "# 22. Implement a function to find the first non-repeating character in a string."
   ]
  },
  {
   "cell_type": "code",
   "execution_count": 36,
   "id": "5b3b6427-fc11-42a1-a2d2-ce716c2c6732",
   "metadata": {},
   "outputs": [
    {
     "name": "stdout",
     "output_type": "stream",
     "text": [
      "First non-repeating character is c\n"
     ]
    }
   ],
   "source": [
    "string = \"aabbcbbaa\"\n",
    "index = -1\n",
    "fnc = \"\"\n",
    " \n",
    "if len(string) == 0 :\n",
    "    print(\"EMTPY STRING\")\n",
    "for i in string:\n",
    "    if string.count(i) == 1:\n",
    "        fnc += i\n",
    "        break\n",
    "    else:\n",
    "        index += 1\n",
    "if index == len(string)-1 :\n",
    "    print(\"All characters are repeating \")\n",
    "else:\n",
    "    print(\"First non-repeating character is\", fnc)"
   ]
  },
  {
   "cell_type": "code",
   "execution_count": 37,
   "id": "0275fa54-e6ad-4fe8-b2b5-f6bb1c0f7875",
   "metadata": {},
   "outputs": [],
   "source": [
    "# 23. Write a program to find the prime factors of a given number.\n"
   ]
  },
  {
   "cell_type": "code",
   "execution_count": 43,
   "id": "b5d572f1-1997-401c-83be-23b73d648c9a",
   "metadata": {},
   "outputs": [],
   "source": [
    "# 24. Implement a function to check if a given number is a power of two.\n"
   ]
  },
  {
   "cell_type": "code",
   "execution_count": 44,
   "id": "a3a6e235-fa47-483d-8246-234ec0feffc3",
   "metadata": {},
   "outputs": [],
   "source": [
    "# 25. Write a Python program to merge two sorted lists into a single sorted list."
   ]
  },
  {
   "cell_type": "code",
   "execution_count": 45,
   "id": "46dbea27-b6de-4981-aeca-cab2436dcbd7",
   "metadata": {},
   "outputs": [
    {
     "name": "stdout",
     "output_type": "stream",
     "text": [
      "The combined sorted list is : [1, 3, 4, 5, 6, 7, 8, 9, 10, 11]\n"
     ]
    }
   ],
   "source": [
    "import numpy as np\n",
    "\n",
    "list1 = [1, 5, 6, 9, 11]\n",
    "list2 = [3, 4, 7, 8, 10]\n",
    "\n",
    "array1 = np.array(list1)\n",
    "array2 = np.array(list2)\n",
    "\n",
    "combined_array = np.concatenate((array1, array2))\n",
    "sorted_combined_array = np.sort(combined_array)\n",
    "\n",
    "res = sorted_combined_array.tolist()\n",
    " \n",
    "# Print the result\n",
    "print(\"The combined sorted list is : \" + str(res))"
   ]
  },
  {
   "cell_type": "code",
   "execution_count": 46,
   "id": "a42225a2-968f-41e8-80c8-a8e651c30e13",
   "metadata": {},
   "outputs": [],
   "source": [
    "# 26. Implement a function to find the mode of a list of numbers."
   ]
  },
  {
   "cell_type": "code",
   "execution_count": 50,
   "id": "a58a0428-72b1-4983-a16e-b729916193dd",
   "metadata": {},
   "outputs": [
    {
     "data": {
      "text/plain": [
       "4"
      ]
     },
     "execution_count": 50,
     "metadata": {},
     "output_type": "execute_result"
    }
   ],
   "source": [
    "\n",
    "l=[1,2,3,4,4,4,4,4,2,2,67]\n",
    "from statistics import mode\n",
    "mode(l)"
   ]
  },
  {
   "cell_type": "code",
   "execution_count": 51,
   "id": "38e248db-e7b5-464d-ad37-5c51bd7f4b66",
   "metadata": {},
   "outputs": [],
   "source": [
    "# 27. Write a program to find the greatest common divisor (GCD) of two numbers.\n"
   ]
  },
  {
   "cell_type": "code",
   "execution_count": 52,
   "id": "ebdff72a-6cad-46a2-b1bd-e1fad8cedc35",
   "metadata": {},
   "outputs": [
    {
     "name": "stdout",
     "output_type": "stream",
     "text": [
      "GCD of 98 and 56 is 14\n"
     ]
    }
   ],
   "source": [
    "def gcd(a, b):\n",
    "\n",
    "    result = min(a, b)\n",
    " \n",
    "    while result:\n",
    "        if a % result == 0 and b % result == 0:\n",
    "            break\n",
    "        result -= 1\n",
    " \n",
    "    # Return the gcd of a and b\n",
    "    return result\n",
    "\n",
    "if __name__ == '__main__':\n",
    "    a = 98\n",
    "    b = 56\n",
    "    print(f\"GCD of {a} and {b} is {gcd(a, b)}\")"
   ]
  },
  {
   "cell_type": "code",
   "execution_count": 53,
   "id": "95d47a25-c88d-43c3-ae55-6d514af9352e",
   "metadata": {},
   "outputs": [],
   "source": [
    "# 28. Implement a function to calculate the square root of a given number.\n"
   ]
  },
  {
   "cell_type": "code",
   "execution_count": 54,
   "id": "dfaccabb-d8ce-4532-8ad2-326718149e98",
   "metadata": {},
   "outputs": [
    {
     "name": "stdout",
     "output_type": "stream",
     "text": [
      "3\n"
     ]
    }
   ],
   "source": [
    " \n",
    "def floorSqrt(x):\n",
    " \n",
    "    # Base cases\n",
    "    if (x == 0 or x == 1):\n",
    "        return x\n",
    "\n",
    "    i = 1\n",
    "    result = 1\n",
    "    while (result <= x):\n",
    " \n",
    "        i += 1\n",
    "        result = i * i\n",
    " \n",
    "    return i - 1\n",
    "\n",
    "x = 11\n",
    "print(floorSqrt(x))"
   ]
  },
  {
   "cell_type": "code",
   "execution_count": 55,
   "id": "d1f9e19c-0d3a-4fd4-a2bb-66ef3799b37f",
   "metadata": {},
   "outputs": [],
   "source": [
    "# 29. Write a Python program to check if a given string is a valid palindrome ignoring non-alphanumeric characters.\n"
   ]
  },
  {
   "cell_type": "code",
   "execution_count": 56,
   "id": "86961463-d93b-411b-8612-1d85fefdbf87",
   "metadata": {},
   "outputs": [
    {
     "data": {
      "text/plain": [
       "False"
      ]
     },
     "execution_count": 56,
     "metadata": {},
     "output_type": "execute_result"
    }
   ],
   "source": [
    "def isPalindrome(str):\n",
    " \n",
    "    for i in range(0, int(len(str)/2)):\n",
    "        if str[i] != str[len(str)-i-1]:\n",
    "            return False\n",
    "    return True\n",
    "isPalindrome('pwskills')\n",
    " "
   ]
  },
  {
   "cell_type": "code",
   "execution_count": 57,
   "id": "d5ec9297-966d-43b1-82ea-86bd4a33ef29",
   "metadata": {},
   "outputs": [],
   "source": [
    "# 30. Implement a function to find the minimum element in a rotated sorted list.\n"
   ]
  },
  {
   "cell_type": "code",
   "execution_count": 58,
   "id": "fdfdccea-a54e-46d3-8497-7ad0af4d38ca",
   "metadata": {},
   "outputs": [
    {
     "name": "stdout",
     "output_type": "stream",
     "text": [
      "1\n"
     ]
    }
   ],
   "source": [
    "def findMin(arr, N):\n",
    "     \n",
    "    min_ele = arr[0];\n",
    "\n",
    "    for i in range(N) :\n",
    "        if arr[i] < min_ele :\n",
    "            min_ele = arr[i]\n",
    " \n",
    "    return min_ele;\n",
    " \n",
    "# Driver program\n",
    "arr = [5, 6, 1, 2, 3, 4]\n",
    "N = len(arr)\n",
    " \n",
    "print(findMin(arr,N))\n",
    " "
   ]
  },
  {
   "cell_type": "code",
   "execution_count": 59,
   "id": "2050b207-82b6-483b-87a4-b1f28408dbf0",
   "metadata": {},
   "outputs": [],
   "source": [
    "# 31. Write a program to find the sum of all even numbers in a list.\n"
   ]
  },
  {
   "cell_type": "code",
   "execution_count": 61,
   "id": "e61e8293-b89f-4569-9a2d-aeb28aaf864c",
   "metadata": {},
   "outputs": [],
   "source": [
    "def even_sum(l):\n",
    "    result=0\n",
    "    for i in l:\n",
    "        if i%2==0:\n",
    "            result=result+i\n",
    "    return result\n",
    "        "
   ]
  },
  {
   "cell_type": "code",
   "execution_count": 62,
   "id": "b28ca3d6-b4f6-4c6d-8d4d-c998afaa4804",
   "metadata": {},
   "outputs": [
    {
     "data": {
      "text/plain": [
       "16"
      ]
     },
     "execution_count": 62,
     "metadata": {},
     "output_type": "execute_result"
    }
   ],
   "source": [
    "l=[1,2,3,5,6,7,8,9]\n",
    "even_sum(l)"
   ]
  },
  {
   "cell_type": "code",
   "execution_count": 63,
   "id": "732ea67a-42ce-4e40-9f90-11f1975dae1d",
   "metadata": {},
   "outputs": [],
   "source": [
    "# 32. Implement a function to calculate the power of a number using recursion.\n"
   ]
  },
  {
   "cell_type": "code",
   "execution_count": 64,
   "id": "f845918c-f551-499e-9fe6-e87ccc1b9b5c",
   "metadata": {},
   "outputs": [
    {
     "name": "stdout",
     "output_type": "stream",
     "text": [
      "25\n"
     ]
    }
   ],
   "source": [
    "def power(N, P):\n",
    "\n",
    "    if P == 0:\n",
    "        return 1\n",
    " \n",
    "    return (N*power(N, P-1))\n",
    " \n",
    "if __name__ == '__main__':\n",
    "    N = 5\n",
    "    P = 2\n",
    " \n",
    "    print(power(N, P))"
   ]
  },
  {
   "cell_type": "code",
   "execution_count": 65,
   "id": "7adec903-2742-4047-a126-f3ec09f41418",
   "metadata": {},
   "outputs": [],
   "source": [
    "# 33. Write a Python program to remove duplicates from a list while preserving the order.\n",
    "\n"
   ]
  },
  {
   "cell_type": "code",
   "execution_count": 66,
   "id": "ee52b59f-dbfa-442b-ab33-f0012ffefa2d",
   "metadata": {},
   "outputs": [],
   "source": [
    "l = [1, 1, 9, 1, 9, 6, 9, 7]\n",
    "result = []\n",
    "for i in l:\n",
    "    if i not in result:\n",
    "         result.append(i)\n",
    " "
   ]
  },
  {
   "cell_type": "code",
   "execution_count": 67,
   "id": "99044368-759c-4bbd-bb46-2c190ad5c75e",
   "metadata": {},
   "outputs": [
    {
     "data": {
      "text/plain": [
       "[1, 9, 6, 7]"
      ]
     },
     "execution_count": 67,
     "metadata": {},
     "output_type": "execute_result"
    }
   ],
   "source": [
    "result"
   ]
  },
  {
   "cell_type": "code",
   "execution_count": 68,
   "id": "f64e1bea-4f4a-4769-a609-a67376baf37e",
   "metadata": {},
   "outputs": [],
   "source": [
    "# 34. Implement a function to find the longest common prefix among a list of strings.\n"
   ]
  },
  {
   "cell_type": "code",
   "execution_count": 69,
   "id": "93211a9e-a0d3-4324-98c9-2ac36920d474",
   "metadata": {},
   "outputs": [],
   "source": [
    "# 35. Write a program to check if a given number is a perfect square.\n"
   ]
  },
  {
   "cell_type": "code",
   "execution_count": 70,
   "id": "5771ae9d-cf0c-4969-ab54-2961c5618a46",
   "metadata": {},
   "outputs": [
    {
     "name": "stdout",
     "output_type": "stream",
     "text": [
      "No\n"
     ]
    }
   ],
   "source": [
    "import math\n",
    "def isPerfectSquare(x):\n",
    " \n",
    "    #if x >= 0,\n",
    "    if(x >= 0):\n",
    "        sr = int(math.sqrt(x))\n",
    "\n",
    "        return ((sr*sr) == x)\n",
    "    return false\n",
    "\n",
    "x = 2502\n",
    "if (isPerfectSquare(x)):\n",
    "    print(\"Yes\")\n",
    "else:\n",
    "    print(\"No\")\n",
    " "
   ]
  },
  {
   "cell_type": "code",
   "execution_count": 71,
   "id": "6783d5e8-00b0-40e4-95f2-daa7920c2452",
   "metadata": {},
   "outputs": [],
   "source": [
    "# 36. Implement a function to calculate the product of all elements in a list.\n"
   ]
  },
  {
   "cell_type": "code",
   "execution_count": 72,
   "id": "dd82e204-2e33-4dd3-a69e-4e3a086f63ac",
   "metadata": {},
   "outputs": [],
   "source": [
    "l=[1,2,3,6,4]\n",
    "def prod(l):\n",
    "    result=1\n",
    "    for i in l:\n",
    "        result=result*i\n",
    "    return result"
   ]
  },
  {
   "cell_type": "code",
   "execution_count": 73,
   "id": "d07238ec-1a9e-4df5-abaa-603009e80dc1",
   "metadata": {},
   "outputs": [
    {
     "data": {
      "text/plain": [
       "144"
      ]
     },
     "execution_count": 73,
     "metadata": {},
     "output_type": "execute_result"
    }
   ],
   "source": [
    "prod(l)"
   ]
  },
  {
   "cell_type": "code",
   "execution_count": 74,
   "id": "52cb49da-e670-41d6-8d91-cc055a3bbeb2",
   "metadata": {},
   "outputs": [],
   "source": [
    "# 37. Write a Python program to reverse the order of words in a sentence while preserving the word order."
   ]
  },
  {
   "cell_type": "code",
   "execution_count": 75,
   "id": "f548f45e-7eab-450b-b497-9696b6d552ae",
   "metadata": {},
   "outputs": [],
   "source": [
    "# 38. Implement a function to find the missing number in a given list of consecutive numbers."
   ]
  },
  {
   "cell_type": "code",
   "execution_count": 76,
   "id": "20e7a22b-e609-4401-a5db-9c758072b834",
   "metadata": {},
   "outputs": [],
   "source": [
    "# 39. Write a program to find the sum of digits of a given number.\n"
   ]
  },
  {
   "cell_type": "code",
   "execution_count": 91,
   "id": "25bccb43-9b24-4e9b-b3f6-db56c43b6648",
   "metadata": {},
   "outputs": [
    {
     "name": "stdout",
     "output_type": "stream",
     "text": [
      "10\n"
     ]
    }
   ],
   "source": [
    "n=1234\n",
    "x=0\n",
    "result=0\n",
    "while n != 0 : \n",
    "    x=int(n%10)\n",
    "    result=result+x\n",
    "    \n",
    "    n=int(n/10)\n",
    "\n",
    "print(result)    "
   ]
  },
  {
   "cell_type": "code",
   "execution_count": 131,
   "id": "664011ec-5c73-4662-84c7-706962ed72bc",
   "metadata": {},
   "outputs": [],
   "source": [
    "# 40. Implement a function to check if a given string is a valid palindrome considering case sensitivity."
   ]
  },
  {
   "cell_type": "code",
   "execution_count": 132,
   "id": "1785d4e6-ccc3-419f-b38f-89a7902ab8d8",
   "metadata": {},
   "outputs": [
    {
     "data": {
      "text/plain": [
       "False"
      ]
     },
     "execution_count": 132,
     "metadata": {},
     "output_type": "execute_result"
    }
   ],
   "source": [
    "def isPalindrome(str):\n",
    " \n",
    "    for i in range(0, int(len(str)/2)):\n",
    "        if str[i] != str[len(str)-i-1]:\n",
    "            return False\n",
    "    return True\n",
    "isPalindrome('pwskills')\n",
    " "
   ]
  },
  {
   "cell_type": "code",
   "execution_count": 93,
   "id": "2fbe10fe-8cd1-4739-903b-870878f16ed9",
   "metadata": {},
   "outputs": [],
   "source": [
    "# 41. Write a Python program to find the smallest missing positive integer in a list.\n"
   ]
  },
  {
   "cell_type": "code",
   "execution_count": 129,
   "id": "4249a468-fcc5-45a9-b390-0f51c98e3305",
   "metadata": {},
   "outputs": [],
   "source": [
    "l=[0,-2,3,4,-5]\n",
    "def fmp(l):\n",
    "    res=0\n",
    "    l.sort()\n",
    "    for i in l:\n",
    "        if l[i]>0:\n",
    "            res=l[i]\n",
    "    return res"
   ]
  },
  {
   "cell_type": "code",
   "execution_count": 130,
   "id": "43748069-7c26-4561-ae2b-012a11f76dac",
   "metadata": {},
   "outputs": [
    {
     "data": {
      "text/plain": [
       "4"
      ]
     },
     "execution_count": 130,
     "metadata": {},
     "output_type": "execute_result"
    }
   ],
   "source": [
    "fmp(l)"
   ]
  },
  {
   "cell_type": "code",
   "execution_count": 115,
   "id": "32ee9a1b-acfc-4ddf-9b34-02c93db0b32e",
   "metadata": {},
   "outputs": [],
   "source": [
    "# 42. Implement a function to find the longest palindrome substring in a given string."
   ]
  },
  {
   "cell_type": "code",
   "execution_count": null,
   "id": "68704eb4-1d68-4561-94a6-1bd36af7c83a",
   "metadata": {},
   "outputs": [],
   "source": []
  },
  {
   "cell_type": "code",
   "execution_count": 95,
   "id": "a5a3ae32-1fbe-4933-885e-29578c3b003c",
   "metadata": {},
   "outputs": [],
   "source": [
    "# 43. Write a program to find the number of occurrences of a given element in a list.\n"
   ]
  },
  {
   "cell_type": "code",
   "execution_count": 113,
   "id": "6415313a-6e12-45fc-abb1-38cea726e663",
   "metadata": {},
   "outputs": [],
   "source": [
    "\n",
    "def countX(lst, x):\n",
    "    return lst.count(x)\n",
    " \n",
    " \n"
   ]
  },
  {
   "cell_type": "code",
   "execution_count": 114,
   "id": "456589cb-dab6-4819-acd6-ab497f31ff1e",
   "metadata": {},
   "outputs": [
    {
     "name": "stdout",
     "output_type": "stream",
     "text": [
      "8 has occurred 5 times\n"
     ]
    }
   ],
   "source": [
    "\n",
    "lst = [8, 6, 8, 10, 8, 20, 10, 8, 8]\n",
    "x = 8\n",
    "print('{} has occurred {} times'.format(x, countX(lst, x)))"
   ]
  },
  {
   "cell_type": "code",
   "execution_count": 96,
   "id": "9c68be93-7976-429c-b6f9-c62629d6f812",
   "metadata": {},
   "outputs": [],
   "source": [
    "# 44. Implement a function to check if a given number is a perfect number."
   ]
  },
  {
   "cell_type": "code",
   "execution_count": 112,
   "id": "b0df8b50-0088-40fc-afa8-c52d20c5c8c7",
   "metadata": {},
   "outputs": [
    {
     "name": "stdin",
     "output_type": "stream",
     "text": [
      "Enter any number:  23\n"
     ]
    },
    {
     "name": "stdout",
     "output_type": "stream",
     "text": [
      "The number is not a Perfect number!\n"
     ]
    }
   ],
   "source": [
    "n = int(input(\"Enter any number: \"))\n",
    "sum1 = 0\n",
    "for i in range(1, n):\n",
    "    if(n % i == 0):\n",
    "        sum1 = sum1 + i\n",
    "if (sum1 == n):\n",
    "    print(\"The number is a Perfect number!\")\n",
    "else:\n",
    "    print(\"The number is not a Perfect number!\")"
   ]
  },
  {
   "cell_type": "code",
   "execution_count": 97,
   "id": "6c409846-12b8-4504-a2f2-74a87f7e2795",
   "metadata": {},
   "outputs": [],
   "source": [
    "# 45. Write a Python program to remove all duplicates from a string.\n"
   ]
  },
  {
   "cell_type": "code",
   "execution_count": 118,
   "id": "5fecf676-9f25-4cba-8440-0690fde696e3",
   "metadata": {},
   "outputs": [
    {
     "name": "stdout",
     "output_type": "stream",
     "text": [
      "datscien\n"
     ]
    }
   ],
   "source": [
    "\n",
    "string=\"datascience\"\n",
    "p=\"\"\n",
    "for char in string:\n",
    "    if char not in p:\n",
    "        p=p+char\n",
    "print(p)\n",
    "k=list(\"datascience\")"
   ]
  },
  {
   "cell_type": "code",
   "execution_count": 98,
   "id": "2c22c24c-bc49-4e95-9fff-279ba7223e9d",
   "metadata": {},
   "outputs": [],
   "source": [
    "# 46. Implement a function to find the first missing positive\n"
   ]
  },
  {
   "cell_type": "code",
   "execution_count": 135,
   "id": "3be98797-0a9d-4fd5-81fe-6fa39e6779e2",
   "metadata": {},
   "outputs": [
    {
     "name": "stdout",
     "output_type": "stream",
     "text": [
      "4\n"
     ]
    }
   ],
   "source": [
    "def first_missing_number(nums):\n",
    "    if len(nums) == 0:\n",
    "        return 1\n",
    "        \n",
    "    nums.sort()\n",
    "    smallest_int_num = 0\n",
    "    \n",
    "    for i in range(len(nums) - 1):\n",
    "\n",
    "        if nums[i] <= 0 or nums[i] == nums[i + 1]:\n",
    "            continue\n",
    "        else:\n",
    "            if nums[i + 1] - nums[i] != 1:\n",
    "                smallest_int_num = nums[i] + 1\n",
    "                return smallest_int_num    \n",
    "    if smallest_int_num == 0:\n",
    "        smallest_int_num = nums[-1] + 1\n",
    "    return smallest_int_num\n",
    "\n",
    "print(first_missing_number([2, 3, 7, 6, 8, 1, -10, 15, 16])) "
   ]
  },
  {
   "cell_type": "code",
   "execution_count": null,
   "id": "c4e43a95-d7c2-4500-a609-2edac0a12a80",
   "metadata": {},
   "outputs": [],
   "source": []
  }
 ],
 "metadata": {
  "kernelspec": {
   "display_name": "Python 3 (ipykernel)",
   "language": "python",
   "name": "python3"
  },
  "language_info": {
   "codemirror_mode": {
    "name": "ipython",
    "version": 3
   },
   "file_extension": ".py",
   "mimetype": "text/x-python",
   "name": "python",
   "nbconvert_exporter": "python",
   "pygments_lexer": "ipython3",
   "version": "3.10.8"
  }
 },
 "nbformat": 4,
 "nbformat_minor": 5
}
